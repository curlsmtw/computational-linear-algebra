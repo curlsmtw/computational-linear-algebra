{
 "cells": [
  {
   "cell_type": "markdown",
   "metadata": {
    "id": "0vCbZcd07yYd"
   },
   "source": [
    "# The matrix inverse"
   ]
  },
  {
   "cell_type": "code",
   "execution_count": 5,
   "metadata": {},
   "outputs": [],
   "source": [
    "import numpy as np\n",
    "import matplotlib.pyplot as plt"
   ]
  },
  {
   "cell_type": "code",
   "execution_count": 7,
   "metadata": {
    "id": "KLWQjOGC75ux"
   },
   "outputs": [
    {
     "name": "stdout",
     "output_type": "stream",
     "text": [
      "[[1 4]\n",
      " [2 7]]\n",
      " \n",
      "[[-7.  4.]\n",
      " [ 2. -1.]]\n",
      " \n",
      "[[1. 0.]\n",
      " [0. 1.]]\n"
     ]
    }
   ],
   "source": [
    "A=np.array([[1,4],[2,7]])\n",
    "Ainv=np.linalg.inv(A)\n",
    "A@Ainv\n",
    "print(A), print(' ')\n",
    "print(Ainv),print(' ')\n",
    "print(A@Ainv)"
   ]
  },
  {
   "cell_type": "code",
   "execution_count": 8,
   "metadata": {
    "id": "qbollo2olhGu"
   },
   "outputs": [
    {
     "name": "stdout",
     "output_type": "stream",
     "text": [
      "[[1. 0.]\n",
      " [0. 1.]]\n",
      " \n",
      "[[1. 0.]\n",
      " [0. 1.]]\n"
     ]
    }
   ],
   "source": [
    "# the full inverse is two-sided\n",
    "print( A@Ainv ), print(' ')\n",
    "print( Ainv@A )"
   ]
  },
  {
   "cell_type": "code",
   "execution_count": 9,
   "metadata": {
    "id": "Z3elO0gElovq"
   },
   "outputs": [
    {
     "data": {
      "text/plain": [
       "array([[-7., 16.],\n",
       "       [ 4., -7.]])"
      ]
     },
     "execution_count": 9,
     "metadata": {},
     "output_type": "execute_result"
    }
   ],
   "source": [
    "# reminder to use the correct operator:\n",
    "A*Ainv # Hadamard multiplication!"
   ]
  },
  {
   "cell_type": "code",
   "execution_count": 10,
   "metadata": {
    "id": "2eIRa7zSobRs"
   },
   "outputs": [
    {
     "ename": "LinAlgError",
     "evalue": "Singular matrix",
     "output_type": "error",
     "traceback": [
      "\u001b[0;31m---------------------------------------------------------------------------\u001b[0m",
      "\u001b[0;31mLinAlgError\u001b[0m                               Traceback (most recent call last)",
      "\u001b[0;32m/var/folders/fy/wdxchzrx1lj0vjz6pwpqc8880000gn/T/ipykernel_3627/1609764745.py\u001b[0m in \u001b[0;36m<module>\u001b[0;34m\u001b[0m\n\u001b[1;32m      3\u001b[0m \u001b[0;34m\u001b[0m\u001b[0m\n\u001b[1;32m      4\u001b[0m \u001b[0;31m# its inverse\u001b[0m\u001b[0;34m\u001b[0m\u001b[0;34m\u001b[0m\u001b[0m\n\u001b[0;32m----> 5\u001b[0;31m \u001b[0mAinv\u001b[0m \u001b[0;34m=\u001b[0m \u001b[0mnp\u001b[0m\u001b[0;34m.\u001b[0m\u001b[0mlinalg\u001b[0m\u001b[0;34m.\u001b[0m\u001b[0minv\u001b[0m\u001b[0;34m(\u001b[0m\u001b[0mA\u001b[0m\u001b[0;34m)\u001b[0m\u001b[0;34m\u001b[0m\u001b[0;34m\u001b[0m\u001b[0m\n\u001b[0m\u001b[1;32m      6\u001b[0m \u001b[0;34m\u001b[0m\u001b[0m\n\u001b[1;32m      7\u001b[0m \u001b[0;31m# does it produce the identity matrix?\u001b[0m\u001b[0;34m\u001b[0m\u001b[0;34m\u001b[0m\u001b[0m\n",
      "\u001b[0;32m<__array_function__ internals>\u001b[0m in \u001b[0;36minv\u001b[0;34m(*args, **kwargs)\u001b[0m\n",
      "\u001b[0;32m~/opt/anaconda3/lib/python3.9/site-packages/numpy/linalg/linalg.py\u001b[0m in \u001b[0;36minv\u001b[0;34m(a)\u001b[0m\n\u001b[1;32m    543\u001b[0m     \u001b[0msignature\u001b[0m \u001b[0;34m=\u001b[0m \u001b[0;34m'D->D'\u001b[0m \u001b[0;32mif\u001b[0m \u001b[0misComplexType\u001b[0m\u001b[0;34m(\u001b[0m\u001b[0mt\u001b[0m\u001b[0;34m)\u001b[0m \u001b[0;32melse\u001b[0m \u001b[0;34m'd->d'\u001b[0m\u001b[0;34m\u001b[0m\u001b[0;34m\u001b[0m\u001b[0m\n\u001b[1;32m    544\u001b[0m     \u001b[0mextobj\u001b[0m \u001b[0;34m=\u001b[0m \u001b[0mget_linalg_error_extobj\u001b[0m\u001b[0;34m(\u001b[0m\u001b[0m_raise_linalgerror_singular\u001b[0m\u001b[0;34m)\u001b[0m\u001b[0;34m\u001b[0m\u001b[0;34m\u001b[0m\u001b[0m\n\u001b[0;32m--> 545\u001b[0;31m     \u001b[0mainv\u001b[0m \u001b[0;34m=\u001b[0m \u001b[0m_umath_linalg\u001b[0m\u001b[0;34m.\u001b[0m\u001b[0minv\u001b[0m\u001b[0;34m(\u001b[0m\u001b[0ma\u001b[0m\u001b[0;34m,\u001b[0m \u001b[0msignature\u001b[0m\u001b[0;34m=\u001b[0m\u001b[0msignature\u001b[0m\u001b[0;34m,\u001b[0m \u001b[0mextobj\u001b[0m\u001b[0;34m=\u001b[0m\u001b[0mextobj\u001b[0m\u001b[0;34m)\u001b[0m\u001b[0;34m\u001b[0m\u001b[0;34m\u001b[0m\u001b[0m\n\u001b[0m\u001b[1;32m    546\u001b[0m     \u001b[0;32mreturn\u001b[0m \u001b[0mwrap\u001b[0m\u001b[0;34m(\u001b[0m\u001b[0mainv\u001b[0m\u001b[0;34m.\u001b[0m\u001b[0mastype\u001b[0m\u001b[0;34m(\u001b[0m\u001b[0mresult_t\u001b[0m\u001b[0;34m,\u001b[0m \u001b[0mcopy\u001b[0m\u001b[0;34m=\u001b[0m\u001b[0;32mFalse\u001b[0m\u001b[0;34m)\u001b[0m\u001b[0;34m)\u001b[0m\u001b[0;34m\u001b[0m\u001b[0;34m\u001b[0m\u001b[0m\n\u001b[1;32m    547\u001b[0m \u001b[0;34m\u001b[0m\u001b[0m\n",
      "\u001b[0;32m~/opt/anaconda3/lib/python3.9/site-packages/numpy/linalg/linalg.py\u001b[0m in \u001b[0;36m_raise_linalgerror_singular\u001b[0;34m(err, flag)\u001b[0m\n\u001b[1;32m     86\u001b[0m \u001b[0;34m\u001b[0m\u001b[0m\n\u001b[1;32m     87\u001b[0m \u001b[0;32mdef\u001b[0m \u001b[0m_raise_linalgerror_singular\u001b[0m\u001b[0;34m(\u001b[0m\u001b[0merr\u001b[0m\u001b[0;34m,\u001b[0m \u001b[0mflag\u001b[0m\u001b[0;34m)\u001b[0m\u001b[0;34m:\u001b[0m\u001b[0;34m\u001b[0m\u001b[0;34m\u001b[0m\u001b[0m\n\u001b[0;32m---> 88\u001b[0;31m     \u001b[0;32mraise\u001b[0m \u001b[0mLinAlgError\u001b[0m\u001b[0;34m(\u001b[0m\u001b[0;34m\"Singular matrix\"\u001b[0m\u001b[0;34m)\u001b[0m\u001b[0;34m\u001b[0m\u001b[0;34m\u001b[0m\u001b[0m\n\u001b[0m\u001b[1;32m     89\u001b[0m \u001b[0;34m\u001b[0m\u001b[0m\n\u001b[1;32m     90\u001b[0m \u001b[0;32mdef\u001b[0m \u001b[0m_raise_linalgerror_nonposdef\u001b[0m\u001b[0;34m(\u001b[0m\u001b[0merr\u001b[0m\u001b[0;34m,\u001b[0m \u001b[0mflag\u001b[0m\u001b[0;34m)\u001b[0m\u001b[0;34m:\u001b[0m\u001b[0;34m\u001b[0m\u001b[0;34m\u001b[0m\u001b[0m\n",
      "\u001b[0;31mLinAlgError\u001b[0m: Singular matrix"
     ]
    }
   ],
   "source": [
    "# try again with a singular matrix\n",
    "A = np.array([ [1,4],[2,8] ])\n",
    "\n",
    "# its inverse\n",
    "Ainv = np.linalg.inv(A)\n",
    "\n",
    "# does it produce the identity matrix?\n",
    "A@Ainv"
   ]
  },
  {
   "cell_type": "markdown",
   "metadata": {
    "id": "mJRYL0ceeiSw"
   },
   "source": [
    "# Inverse of a diagonal matrix"
   ]
  },
  {
   "cell_type": "code",
   "execution_count": 11,
   "metadata": {
    "id": "NDkTHmqpekWu"
   },
   "outputs": [
    {
     "name": "stdout",
     "output_type": "stream",
     "text": [
      "The diagonal matrix:\n",
      "[[1 0 0 0 0]\n",
      " [0 2 0 0 0]\n",
      " [0 0 3 0 0]\n",
      " [0 0 0 4 0]\n",
      " [0 0 0 0 5]]\n",
      " \n",
      "Its inverse:\n",
      "[[ 1.          0.          0.          0.          0.        ]\n",
      " [ 0.          0.5         0.          0.          0.        ]\n",
      " [ 0.          0.          0.33333333  0.          0.        ]\n",
      " [-0.         -0.         -0.          0.25       -0.        ]\n",
      " [ 0.          0.          0.          0.          0.2       ]]\n",
      " \n",
      "Their product:\n",
      "[[1. 0. 0. 0. 0.]\n",
      " [0. 1. 0. 0. 0.]\n",
      " [0. 0. 1. 0. 0.]\n",
      " [0. 0. 0. 1. 0.]\n",
      " [0. 0. 0. 0. 1.]]\n"
     ]
    }
   ],
   "source": [
    "D = np.diag( np.arange(1,6) )\n",
    "Dinv = np.linalg.inv(D)\n",
    "\n",
    "print('The diagonal matrix:')\n",
    "print(D), print(' ')\n",
    "\n",
    "print('Its inverse:')\n",
    "print(Dinv), print(' ')\n",
    "\n",
    "print('Their product:')\n",
    "print(D@Dinv)"
   ]
  },
  {
   "cell_type": "markdown",
   "metadata": {
    "id": "ho1--WmbeiYC"
   },
   "source": [
    "# The left-inverse"
   ]
  },
  {
   "cell_type": "code",
   "execution_count": 19,
   "metadata": {
    "id": "vTutSKdlqm1a"
   },
   "outputs": [
    {
     "name": "stdout",
     "output_type": "stream",
     "text": [
      "This matrix has rank=4\n",
      "\n",
      "\n",
      "[[ 1. -0.  0.  0.]\n",
      " [ 0.  1.  0. -0.]\n",
      " [ 0. -0.  1. -0.]\n",
      " [ 0. -0.  0.  1.]]\n"
     ]
    }
   ],
   "source": [
    "# making an invertible square matrix from a tall full column-rank matrix\n",
    "\n",
    "# here's a tall matrix.\n",
    "T = np.random.randint(-10,11,size=(40,4))\n",
    "\n",
    "# confirm that it has its maximum possible rank (full column-rank)\n",
    "print( f'This matrix has rank={np.linalg.matrix_rank(T)}\\n\\n' )\n",
    "\n",
    "# next, create a square full-rank matrix\n",
    "TtT = T.T@T\n",
    "\n",
    "# check whether it has an inverse\n",
    "TtT_inv = np.linalg.inv(TtT)\n",
    "print( np.round(TtT_inv@TtT,4) )"
   ]
  },
  {
   "cell_type": "code",
   "execution_count": 21,
   "metadata": {
    "id": "r2LBAGIrZY4Y"
   },
   "outputs": [
    {
     "name": "stdout",
     "output_type": "stream",
     "text": [
      "[[ 1. -0.  0. -0.]\n",
      " [ 0.  1.  0.  0.]\n",
      " [ 0. -0.  1. -0.]\n",
      " [-0.  0.  0.  1.]]\n",
      " \n",
      "[[ 0.029876 -0.015453 -0.000954 ...  0.002424 -0.02641  -0.027933]\n",
      " [-0.015453  0.123528  0.049569 ... -0.004693  0.001429  0.025619]\n",
      " [-0.000954  0.049569  0.134146 ...  0.023222  0.036293 -0.053002]\n",
      " ...\n",
      " [ 0.002424 -0.004693  0.023222 ...  0.022911  0.009873 -0.020952]\n",
      " [-0.02641   0.001429  0.036293 ...  0.009873  0.039672  0.001577]\n",
      " [-0.027933  0.025619 -0.053002 ... -0.020952  0.001577  0.059334]]\n"
     ]
    }
   ],
   "source": [
    "# finish creating the left-inverse\n",
    "\n",
    "# our left-inverse\n",
    "L = TtT_inv @ T.T\n",
    "\n",
    "# confirm that it works\n",
    "print( np.round( L@T,6 ) ), print(' ')\n",
    "\n",
    "# but it's one-sided!\n",
    "print( np.round( T@L,6 ) )\n"
   ]
  },
  {
   "cell_type": "code",
   "execution_count": 22,
   "metadata": {
    "id": "5aOfDBtjXlgD"
   },
   "outputs": [
    {
     "data": {
      "image/png": "[encoded data removed]",
      "text/plain": [
       "<Figure size 720x720 with 4 Axes>"
      ]
     },
     "metadata": {},
     "output_type": "display_data"
    }
   ],
   "source": [
    "# visualize! of course :)\n",
    "\n",
    "fig,axs = plt.subplots(2,2,figsize=(10,10))\n",
    "\n",
    "axs[0,0].imshow(T,cmap='gray')\n",
    "axs[0,0].set_title('Tall matrix')\n",
    "\n",
    "axs[0,1].imshow(L,cmap='gray')\n",
    "axs[0,1].set_title('Left inverse')\n",
    "\n",
    "axs[1,0].imshow(L@T,cmap='gray')\n",
    "axs[1,0].set_title('L@T')\n",
    "\n",
    "axs[1,1].imshow(T@L,cmap='gray')\n",
    "axs[1,1].set_title('T@L')\n",
    "\n",
    "for a in axs.flatten():\n",
    "  a.set_xticks([])\n",
    "  a.set_yticks([])\n",
    "  \n",
    "plt.tight_layout()\n",
    "plt.savefig('Figure_08_04.png',dpi=300)\n",
    "plt.show()"
   ]
  },
  {
   "cell_type": "markdown",
   "metadata": {},
   "source": [
    "# The right-inverse"
   ]
  },
  {
   "cell_type": "code",
   "execution_count": 30,
   "metadata": {},
   "outputs": [
    {
     "name": "stdout",
     "output_type": "stream",
     "text": [
      "This matrix has rank=4\n",
      "\n",
      "\n",
      "[[ 1.  0.  0.  0.]\n",
      " [ 0.  1. -0. -0.]\n",
      " [ 0.  0.  1.  0.]\n",
      " [ 0.  0.  0.  1.]]\n"
     ]
    }
   ],
   "source": [
    "# Making an invertible matrix from a wide full row-rank matrix\n",
    "\n",
    "# here's a wide matrix.\n",
    "W = np.random.randint(-10,11,size=(4,40))\n",
    "\n",
    "# confirm that it has its maximum possible rank (full row-rank)\n",
    "print( f'This matrix has rank={np.linalg.matrix_rank(W)}\\n\\n' )\n",
    "\n",
    "# next, create a square full-rank matrix\n",
    "WWt = W@W.T\n",
    "\n",
    "# check whether it has an inverse\n",
    "WWt_inv = np.linalg.inv(WWt)\n",
    "print( np.round(WWt_inv@WWt,4) )"
   ]
  },
  {
   "cell_type": "code",
   "execution_count": 31,
   "metadata": {},
   "outputs": [
    {
     "name": "stdout",
     "output_type": "stream",
     "text": [
      "[[ 1.  0.  0.  0.]\n",
      " [ 0.  1.  0.  0.]\n",
      " [ 0.  0.  1. -0.]\n",
      " [ 0.  0. -0.  1.]]\n",
      " \n",
      "[[ 0.07588  -0.008439  0.009368 ...  0.083399  0.024311 -0.060575]\n",
      " [-0.008439  0.043162  0.002744 ... -0.03583  -0.029536  0.03116 ]\n",
      " [ 0.009368  0.002744  0.089828 ...  0.06672   0.078274  0.020108]\n",
      " ...\n",
      " [ 0.083399 -0.03583   0.06672  ...  0.227086  0.01549  -0.143119]\n",
      " [ 0.024311 -0.029536  0.078274 ...  0.01549   0.173208  0.065731]\n",
      " [-0.060575  0.03116   0.020108 ... -0.143119  0.065731  0.146415]]\n"
     ]
    }
   ],
   "source": [
    "# finish creating the right-inverse\n",
    "\n",
    "# our right-inverse\n",
    "R = W.T @ WWt_inv\n",
    "\n",
    "# confirm that it works\n",
    "print( np.round( W@R,6 ) ), print(' ')\n",
    "\n",
    "# but it's one-sided!\n",
    "print( np.round( R@W,6 ) )"
   ]
  },
  {
   "cell_type": "code",
   "execution_count": 32,
   "metadata": {},
   "outputs": [
    {
     "data": {
      "image/png": "[encoded data removed]",
      "text/plain": [
       "<Figure size 720x720 with 4 Axes>"
      ]
     },
     "metadata": {},
     "output_type": "display_data"
    }
   ],
   "source": [
    "# visualize! \n",
    "\n",
    "fig,axs = plt.subplots(2,2,figsize=(10,10))\n",
    "\n",
    "axs[0,0].imshow(W,cmap='gray')\n",
    "axs[0,0].set_title('Wide matrix')\n",
    "\n",
    "axs[0,1].imshow(R,cmap='gray')\n",
    "axs[0,1].set_title('Right inverse')\n",
    "\n",
    "axs[1,0].imshow(R@W,cmap='gray')\n",
    "axs[1,0].set_title('R@W')\n",
    "\n",
    "axs[1,1].imshow(W@R,cmap='gray')\n",
    "axs[1,1].set_title('W@R')\n",
    "\n",
    "for a in axs.flatten():\n",
    "  a.set_xticks([])\n",
    "  a.set_yticks([])\n",
    "  \n",
    "plt.tight_layout()\n",
    "plt.show()"
   ]
  },
  {
   "cell_type": "markdown",
   "metadata": {
    "id": "yqiDEgEwXl2I"
   },
   "source": [
    "# MP pseudoinverse"
   ]
  },
  {
   "cell_type": "code",
   "execution_count": 23,
   "metadata": {
    "id": "yRmmDFGxXqfS"
   },
   "outputs": [
    {
     "name": "stdout",
     "output_type": "stream",
     "text": [
      "[[1. 2.]\n",
      " [4. 8.]]\n",
      " \n"
     ]
    },
    {
     "data": {
      "text/plain": [
       "array([[0.2, 0.4],\n",
       "       [0.4, 0.8]])"
      ]
     },
     "execution_count": 23,
     "metadata": {},
     "output_type": "execute_result"
    }
   ],
   "source": [
    "# The same singular matrix as before\n",
    "A = np.array([ [1,4],[2,8] ])\n",
    "\n",
    "# its inverse\n",
    "Apinv = np.linalg.pinv(A)\n",
    "print(Apinv*85), print(' ')\n",
    "\n",
    "# does it produce the identity matrix?\n",
    "A@Apinv"
   ]
  },
  {
   "cell_type": "code",
   "execution_count": 33,
   "metadata": {
    "id": "ZaoQSjckXl5j"
   },
   "outputs": [
    {
     "name": "stdout",
     "output_type": "stream",
     "text": [
      "The rank of this matrix is 5.\n",
      "\n"
     ]
    },
    {
     "data": {
      "image/png": "[encoded data removed]",
      "text/plain": [
       "<Figure size 432x288 with 2 Axes>"
      ]
     },
     "metadata": {
      "needs_background": "light"
     },
     "output_type": "display_data"
    }
   ],
   "source": [
    "# an exmple with random numbers\n",
    "A = np.random.randn(7,5) @ np.random.randn(5,7)\n",
    "print(f'The rank of this matrix is {np.linalg.matrix_rank(A)}.\\n')\n",
    "\n",
    "Apinv = np.linalg.pinv(A)\n",
    "plt.imshow(A@Apinv)\n",
    "plt.title('The matrix times its pinv')\n",
    "plt.colorbar()\n",
    "plt.show()"
   ]
  },
  {
   "cell_type": "code",
   "execution_count": null,
   "metadata": {},
   "outputs": [],
   "source": []
  }
 ],
 "metadata": {
  "colab": {
   "authorship_tag": "ABX9TyPOR7ncTzmPaCV3gCoDByVT",
   "collapsed_sections": [],
   "name": "LA4DS_ch08.ipynb",
   "provenance": []
  },
  "kernelspec": {
   "display_name": "Python 3 (ipykernel)",
   "language": "python",
   "name": "python3"
  },
  "language_info": {
   "codemirror_mode": {
    "name": "ipython",
    "version": 3
   },
   "file_extension": ".py",
   "mimetype": "text/x-python",
   "name": "python",
   "nbconvert_exporter": "python",
   "pygments_lexer": "ipython3",
   "version": "3.9.7"
  }
 },
 "nbformat": 4,
 "nbformat_minor": 1
}
