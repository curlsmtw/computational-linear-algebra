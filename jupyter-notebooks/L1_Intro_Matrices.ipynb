{
 "cells": [
  {
   "cell_type": "markdown",
   "metadata": {},
   "source": [
    "# A zoo of matrices"
   ]
  },
  {
   "cell_type": "code",
   "execution_count": 2,
   "metadata": {},
   "outputs": [],
   "source": [
    "import numpy as np"
   ]
  },
  {
   "cell_type": "code",
   "execution_count": 3,
   "metadata": {},
   "outputs": [
    {
     "name": "stdout",
     "output_type": "stream",
     "text": [
      "[[ 0.77136049 -1.1416175  -0.40210297  1.12909448  0.01882389]\n",
      " [ 1.84760193  0.64178    -0.50957619  1.27432583  0.02772194]\n",
      " [ 0.75837636  0.09502293  0.11255502 -0.65800371  0.06408541]\n",
      " [-0.73401575  0.95601197  1.00376509 -0.36669902 -1.08818232]\n",
      " [ 1.26622255 -0.58848242  0.86911581 -0.81824461  0.54127369]]\n",
      " \n",
      "[[ 1.25402979 -0.97948697]\n",
      " [-0.1954763   1.5222131 ]\n",
      " [-1.09345748  0.42357089]\n",
      " [-1.89921541 -1.74966686]\n",
      " [ 1.06219106  0.60921375]]\n"
     ]
    }
   ],
   "source": [
    "# square vs. rectangular\n",
    "S = np.random.randn(5,5)\n",
    "R = np.random.randn(5,2) # 5 rows, 2 columns\n",
    "print(S), print(' ')\n",
    "print(R)"
   ]
  },
  {
   "cell_type": "code",
   "execution_count": 4,
   "metadata": {},
   "outputs": [
    {
     "name": "stdout",
     "output_type": "stream",
     "text": [
      "[[1. 0. 0. 0. 0.]\n",
      " [0. 1. 0. 0. 0.]\n",
      " [0. 0. 1. 0. 0.]\n",
      " [0. 0. 0. 1. 0.]\n",
      " [0. 0. 0. 0. 1.]]\n"
     ]
    }
   ],
   "source": [
    "# identity\n",
    "I = np.eye(5)\n",
    "print(I)\n"
   ]
  },
  {
   "cell_type": "code",
   "execution_count": 5,
   "metadata": {},
   "outputs": [
    {
     "name": "stdout",
     "output_type": "stream",
     "text": [
      "[[0. 0. 0. 0.]\n",
      " [0. 0. 0. 0.]\n",
      " [0. 0. 0. 0.]\n",
      " [0. 0. 0. 0.]]\n"
     ]
    }
   ],
   "source": [
    "# zeros\n",
    "Z = np.zeros((4,4))\n",
    "print(Z)"
   ]
  },
  {
   "cell_type": "code",
   "execution_count": 6,
   "metadata": {},
   "outputs": [
    {
     "name": "stdout",
     "output_type": "stream",
     "text": [
      "[[1 0 0 0 0]\n",
      " [0 2 0 0 0]\n",
      " [0 0 3 0 0]\n",
      " [0 0 0 5 0]\n",
      " [0 0 0 0 2]]\n"
     ]
    }
   ],
   "source": [
    "# diagonal\n",
    "D = np.diag([ 1, 2, 3, 5, 2 ])\n",
    "print(D)"
   ]
  },
  {
   "cell_type": "code",
   "execution_count": 7,
   "metadata": {},
   "outputs": [
    {
     "name": "stdout",
     "output_type": "stream",
     "text": [
      "[[-1.56915456  0.95339689]\n",
      " [-2.07558761 -0.84558344]\n",
      " [-0.87039298  0.93613996]]\n",
      " \n",
      "[[ 0.97481981  0.45242157 -1.91678644 -0.44520637]\n",
      " [-0.00603833  0.49444199  0.67678992  0.06646386]\n",
      " [ 0.67433722 -0.1062893  -0.01686546  0.24379164]]\n",
      " \n",
      "[[-1.56915456  0.95339689  0.97481981  0.45242157 -1.91678644 -0.44520637]\n",
      " [-2.07558761 -0.84558344 -0.00603833  0.49444199  0.67678992  0.06646386]\n",
      " [-0.87039298  0.93613996  0.67433722 -0.1062893  -0.01686546  0.24379164]]\n"
     ]
    }
   ],
   "source": [
    "# concatenate matrices (sizes must match!)\n",
    "A = np.random.randn(3,2)\n",
    "B = np.random.randn(3,4)\n",
    "# in matrix C, first two columns are from A and the other four are from B\n",
    "C = np.concatenate((A,B),axis=1)\n",
    "print(A),print(' ')\n",
    "print(B), print(' ')\n",
    "print(C)"
   ]
  },
  {
   "cell_type": "code",
   "execution_count": 8,
   "metadata": {},
   "outputs": [
    {
     "name": "stdout",
     "output_type": "stream",
     "text": [
      "[[ 0.28332695 -0.85259875 -1.45165093 -1.17380683 -0.05451803]\n",
      " [-0.24163684 -1.3323696  -0.05456673 -0.70830091 -0.78561181]\n",
      " [ 0.38159678  0.13030734  0.01002444 -0.43269597  1.51135919]\n",
      " [-0.37091133 -1.40657118  0.86919426 -3.5362131  -0.23940667]\n",
      " [-0.53902622 -2.24447878  0.64900237  1.47412808  0.79056078]]\n",
      " \n",
      "[[ 0.28332695  0.          0.          0.          0.        ]\n",
      " [-0.24163684 -1.3323696   0.          0.          0.        ]\n",
      " [ 0.38159678  0.13030734  0.01002444  0.          0.        ]\n",
      " [-0.37091133 -1.40657118  0.86919426 -3.5362131   0.        ]\n",
      " [-0.53902622 -2.24447878  0.64900237  1.47412808  0.79056078]]\n",
      " \n",
      "[[ 0.28332695 -0.85259875 -1.45165093 -1.17380683 -0.05451803]\n",
      " [ 0.         -1.3323696  -0.05456673 -0.70830091 -0.78561181]\n",
      " [ 0.          0.          0.01002444 -0.43269597  1.51135919]\n",
      " [ 0.          0.          0.         -3.5362131  -0.23940667]\n",
      " [ 0.          0.          0.          0.          0.79056078]]\n"
     ]
    }
   ],
   "source": [
    "# create triangular matrix from full matrices\n",
    "S = np.random.randn(5,5)\n",
    "U = np.triu(S)\n",
    "L = np.tril(S)\n",
    "print(S),print(' ')\n",
    "print(L), print(' ')\n",
    "print(U)"
   ]
  },
  {
   "cell_type": "markdown",
   "metadata": {},
   "source": [
    "\n",
    "---\n",
    "# Matrix addition and subtraction\n",
    "---\n"
   ]
  },
  {
   "cell_type": "code",
   "execution_count": 9,
   "metadata": {},
   "outputs": [
    {
     "name": "stdout",
     "output_type": "stream",
     "text": [
      "[[ 6  8]\n",
      " [10 12]]\n",
      " \n",
      "[[-8 -8]\n",
      " [-8 -8]]\n"
     ]
    }
   ],
   "source": [
    "# create  matrices\n",
    "A = np.array([ [1, 2], [3, 4] ])\n",
    "B = np.array([ [5,6], [7,8] ])\n",
    "C = np.array([ [9,10],[11,12] ])\n",
    "\n",
    "# add or subtract them\n",
    "M1=A+B\n",
    "M2=A-C\n",
    "print(M1), print(' ')\n",
    "print(M2)"
   ]
  },
  {
   "cell_type": "markdown",
   "metadata": {},
   "source": [
    "\n",
    "---\n",
    "# Matrix-scalar multiplication\n",
    "---\n"
   ]
  },
  {
   "cell_type": "code",
   "execution_count": 10,
   "metadata": {},
   "outputs": [
    {
     "name": "stdout",
     "output_type": "stream",
     "text": [
      "[[ 2  4]\n",
      " [ 4 10]]\n",
      "[[ 2  4]\n",
      " [ 4 10]]\n"
     ]
    }
   ],
   "source": [
    "# define matrix and scalar\n",
    "M = np.array([ [1, 2], [2, 5] ])\n",
    "s = 2\n",
    "\n",
    "# pre- and post-multiplication is the same:\n",
    "print( M*s )\n",
    "print( s*M )\n"
   ]
  },
  {
   "cell_type": "markdown",
   "metadata": {},
   "source": [
    "# Transpose"
   ]
  },
  {
   "cell_type": "code",
   "execution_count": 11,
   "metadata": {},
   "outputs": [
    {
     "name": "stdout",
     "output_type": "stream",
     "text": [
      "[[1 2 3]\n",
      " [2 3 4]]\n",
      "\n",
      "[[1 2]\n",
      " [2 3]\n",
      " [3 4]]\n",
      "\n",
      "[[1 2 3]\n",
      " [2 3 4]]\n",
      "\n",
      "[[1 2]\n",
      " [2 3]\n",
      " [3 4]]\n"
     ]
    }
   ],
   "source": [
    "M = np.array([ [1,2,3],\n",
    "               [2,3,4] ])\n",
    "\n",
    "print(M), print('')\n",
    "print(M.T), print('') # one transpose\n",
    "print(M.T.T), print('') # double-transpose returns the original matrix\n",
    "\n",
    "# can also use the function transpose\n",
    "print(np.transpose(M))"
   ]
  },
  {
   "cell_type": "markdown",
   "metadata": {},
   "source": [
    "\n",
    "---\n",
    "# Extract the diagonal.  Trace of a matrix\n",
    "---\n"
   ]
  },
  {
   "cell_type": "code",
   "execution_count": 12,
   "metadata": {},
   "outputs": [
    {
     "name": "stdout",
     "output_type": "stream",
     "text": [
      "[[ -4.   1.   1.  -4.]\n",
      " [ -5.  14.  -0. -10.]\n",
      " [ -1.  -0.  -0.   5.]\n",
      " [  2.  -4.   3.  -3.]]\n",
      " \n",
      "[-4. 14. -0. -3.]\n",
      "\n",
      "[[-4.  0.  0.  0.]\n",
      " [ 0. 14.  0.  0.]\n",
      " [ 0.  0. -0.  0.]\n",
      " [ 0.  0.  0. -3.]]\n",
      "7.0 7.0\n"
     ]
    }
   ],
   "source": [
    "\n",
    "M = np.round(6* np.random.randn(4,4) )\n",
    "print(M), print(' ')\n",
    "# extract the diagonals\n",
    "d = np.diag(M)\n",
    "\n",
    "# notice the two ways of using the diag function\n",
    "d = np.diag(M) # input is matrix, output is vector\n",
    "D = np.diag(d) # input is vector, output is matrix\n",
    "print(d), print('')\n",
    "print(D)\n",
    "\n",
    "# trace as sum of diagonal elements\n",
    "tr = np.trace(M)\n",
    "tr2 = sum( np.diag(M) )\n",
    "print(tr,tr2)"
   ]
  },
  {
   "cell_type": "markdown",
   "metadata": {},
   "source": [
    "\n",
    "---\n",
    "# Broadcasting matrix arithmetic\n",
    "---\n"
   ]
  },
  {
   "cell_type": "code",
   "execution_count": 13,
   "metadata": {},
   "outputs": [
    {
     "name": "stdout",
     "output_type": "stream",
     "text": [
      "[[ 1  4  7 10]\n",
      " [ 2  5  8 11]\n",
      " [ 3  6  9 12]]\n",
      " \n",
      "[10, 20, 30, 40]\n",
      " \n",
      "[100, 200, 300]\n",
      " \n"
     ]
    }
   ],
   "source": [
    "# create a matrix\n",
    "# arrange numbers from 1 to 13 in a 3x4 matrix\n",
    "A = np.reshape(np.arange(1,13),(3,4),'F') # F=column, C=row\n",
    "\n",
    "# and two vectors\n",
    "r = [ 10, 20, 30, 40 ]\n",
    "c = [ 100, 200, 300 ]\n",
    "\n",
    "print(A), print(' ')\n",
    "print(r), print(' ')\n",
    "print(c), print(' ');"
   ]
  },
  {
   "cell_type": "code",
   "execution_count": 14,
   "metadata": {},
   "outputs": [
    {
     "name": "stdout",
     "output_type": "stream",
     "text": [
      "[[11 24 37 50]\n",
      " [12 25 38 51]\n",
      " [13 26 39 52]]\n",
      " \n",
      "[[101 104 107 110]\n",
      " [202 205 208 211]\n",
      " [303 306 309 312]]\n"
     ]
    }
   ],
   "source": [
    "# broadcast on the rows\n",
    "print(A+r), print(' ')\n",
    "\n",
    "# broadcast on the columns\n",
    "#print(A+c)\n",
    "print(A+np.reshape(c,(len(c),1))) # only works for explicit column vectors\n"
   ]
  },
  {
   "cell_type": "markdown",
   "metadata": {},
   "source": [
    "# \"Shifting\" a matrix: M=A+rI"
   ]
  },
  {
   "cell_type": "code",
   "execution_count": 15,
   "metadata": {},
   "outputs": [
    {
     "name": "stdout",
     "output_type": "stream",
     "text": [
      "[[ 4  5  1]\n",
      " [ 0  1 11]\n",
      " [ 4  9  7]]\n",
      " \n",
      "[[ 4.03  5.    1.  ]\n",
      " [ 0.    1.03 11.  ]\n",
      " [ 4.    9.    7.03]]\n"
     ]
    }
   ],
   "source": [
    "# \"shifting\" a matrix\n",
    "r = .03 # scalar\n",
    "A = np.array([[4,5,1],[0,1,11],[4,9,7]]) # can only shift a square matrix\n",
    "M = A + r*np.eye(len(A))\n",
    "print(A), print(' ')\n",
    "print(M)"
   ]
  },
  {
   "cell_type": "markdown",
   "metadata": {},
   "source": [
    "# Hadamard multiplication"
   ]
  },
  {
   "cell_type": "code",
   "execution_count": 16,
   "metadata": {},
   "outputs": [
    {
     "name": "stdout",
     "output_type": "stream",
     "text": [
      "[[-0.09501445 -0.2831122  -0.55963663  0.09930509]\n",
      " [-0.04657312  0.65589408 -0.33890836  0.18260936]\n",
      " [-1.30508792  0.68043781 -1.20128492  0.61506991]]\n",
      "\n",
      "[[-0.09501445 -0.2831122  -0.55963663  0.09930509]\n",
      " [-0.04657312  0.65589408 -0.33890836  0.18260936]\n",
      " [-1.30508792  0.68043781 -1.20128492  0.61506991]]\n",
      "\n",
      "[[-0.83845819 -0.41820252 -2.06678685]\n",
      " [ 1.34175502  0.45302195  0.64974146]\n",
      " [ 0.88111008  3.14605079 -1.21086513]]\n"
     ]
    }
   ],
   "source": [
    "# two random matrices\n",
    "A = np.random.randn(3,4)\n",
    "B = np.random.randn(3,4)\n",
    "\n",
    "# this is Hadamard multiplication\n",
    "C1=A*B \n",
    "print(A*B),print('')\n",
    "# and so is this\n",
    "C2=np.multiply(A,B)\n",
    "print(C2), print('')\n",
    "\n",
    "# this one is NOT Hadamard multiplication\n",
    "# this is just a prodict of A and B^{T}\n",
    "A@B.T\n",
    "print(A@B.T)\n"
   ]
  },
  {
   "cell_type": "markdown",
   "metadata": {},
   "source": [
    "# \"Standard\" matrix multiplication"
   ]
  },
  {
   "cell_type": "code",
   "execution_count": 17,
   "metadata": {},
   "outputs": [
    {
     "name": "stdout",
     "output_type": "stream",
     "text": [
      "(3, 4)\n",
      "(3, 4)\n",
      "(6, 6)\n",
      "(3, 4)\n"
     ]
    }
   ],
   "source": [
    "# Create a few matrices\n",
    "A = np.random.randn(3,6)\n",
    "B = np.random.randn(6,4)\n",
    "C = np.random.randn(6,4)\n",
    "\n",
    "# try some multiplications, and print out the shape of the product matrix\n",
    "print( (A@B).shape )\n",
    "print( np.dot(A,B).shape ) # same as above\n",
    "print( (B@C.T).shape )\n",
    "print( (A@C).shape )"
   ]
  },
  {
   "cell_type": "code",
   "execution_count": 18,
   "metadata": {},
   "outputs": [
    {
     "name": "stdout",
     "output_type": "stream",
     "text": [
      "[[-0.12868598 -0.48420211  4.11189521 -2.3002898 ]\n",
      " [-0.82620432  1.711716   -3.13996567 -2.63490605]\n",
      " [-0.09147906 -0.98122623  4.35677501 -3.53598867]]\n"
     ]
    }
   ],
   "source": [
    "# \"standard\" multiplication of A and B\n",
    "S1=A@B\n",
    "print(S1)"
   ]
  },
  {
   "cell_type": "code",
   "execution_count": 19,
   "metadata": {},
   "outputs": [
    {
     "name": "stdout",
     "output_type": "stream",
     "text": [
      "[[-0.12868598 -0.48420211  4.11189521 -2.3002898 ]\n",
      " [-0.82620432  1.711716   -3.13996567 -2.63490605]\n",
      " [-0.09147906 -0.98122623  4.35677501 -3.53598867]]\n"
     ]
    }
   ],
   "source": [
    "# Also \"standard\" multiplication of A and B\n",
    "S2=np.dot(A,B)\n",
    "print (S2)"
   ]
  },
  {
   "cell_type": "code",
   "execution_count": 20,
   "metadata": {},
   "outputs": [
    {
     "name": "stdout",
     "output_type": "stream",
     "text": [
      "[[ 0.21128226 -0.61312016  1.6974008   0.09185661  2.55223249  3.13384599]\n",
      " [-0.31812982 -1.34539825  0.92581505  0.47705362  5.13962203  3.5439983 ]\n",
      " [ 0.10937366 -1.00512344 -0.97711888  0.54340679 -0.96953811 -3.60763332]\n",
      " [ 0.72226309 -0.54569479  0.43478633 -0.14775805 -3.07195974 -1.59942595]\n",
      " [-0.07860446  0.62542292 -0.16592464 -0.31635978 -0.75653092  0.45762187]\n",
      " [-0.18555945  1.2596988  -0.68255695 -0.56724414 -1.92377964  0.01946752]]\n"
     ]
    }
   ],
   "source": [
    "# \"standard\" product of B and the transpose of C\n",
    "S3=B@C.T\n",
    "print(S3)"
   ]
  },
  {
   "cell_type": "markdown",
   "metadata": {},
   "source": [
    "# Slicing out rows and columns"
   ]
  },
  {
   "cell_type": "code",
   "execution_count": 21,
   "metadata": {},
   "outputs": [
    {
     "name": "stdout",
     "output_type": "stream",
     "text": [
      "[[ 0  1  2  3  4  5  6  7  8  9]\n",
      " [10 11 12 13 14 15 16 17 18 19]\n",
      " [20 21 22 23 24 25 26 27 28 29]\n",
      " [30 31 32 33 34 35 36 37 38 39]\n",
      " [40 41 42 43 44 45 46 47 48 49]\n",
      " [50 51 52 53 54 55 56 57 58 59]]\n"
     ]
    }
   ],
   "source": [
    "# create a matrix\n",
    "A = np.reshape(np.arange(60),(6,10))\n",
    "print(A)"
   ]
  },
  {
   "cell_type": "code",
   "execution_count": 22,
   "metadata": {},
   "outputs": [
    {
     "name": "stdout",
     "output_type": "stream",
     "text": [
      "[10 11 12 13 14 15 16 17 18 19]\n",
      "[10 11 12 13 14 15 16 17 18 19]\n"
     ]
    }
   ],
   "source": [
    "# get the n-th row (in this example the 2nd row)\n",
    "\n",
    "print( A[1,:] )\n",
    "\n",
    "# note that to extract only one row, you don't need the column indices. \n",
    "print( A[1] )\n",
    "# But that's potentially confusing, so I recommend avoiding that notation."
   ]
  },
  {
   "cell_type": "code",
   "execution_count": 23,
   "metadata": {},
   "outputs": [
    {
     "name": "stdout",
     "output_type": "stream",
     "text": [
      "[ 1 11 21 31 41 51]\n"
     ]
    }
   ],
   "source": [
    "# get the n-th column (in this example the 2nd column)\n",
    "print( A[:,1] )\n",
    "# Note that it prints out as a \"row\" even thought it's a column of the matrix"
   ]
  },
  {
   "cell_type": "code",
   "execution_count": 24,
   "metadata": {},
   "outputs": [
    {
     "data": {
      "text/plain": [
       "array([[ 0,  1,  2,  3,  4,  5,  6,  7,  8,  9],\n",
       "       [10, 11, 12, 13, 14, 15, 16, 17, 18, 19]])"
      ]
     },
     "execution_count": 24,
     "metadata": {},
     "output_type": "execute_result"
    }
   ],
   "source": [
    "# multiple rows\n",
    "A[0:2,:]"
   ]
  },
  {
   "cell_type": "code",
   "execution_count": 25,
   "metadata": {},
   "outputs": [
    {
     "data": {
      "text/plain": [
       "array([[ 7,  8,  9],\n",
       "       [17, 18, 19],\n",
       "       [27, 28, 29],\n",
       "       [37, 38, 39],\n",
       "       [47, 48, 49],\n",
       "       [57, 58, 59]])"
      ]
     },
     "execution_count": 25,
     "metadata": {},
     "output_type": "execute_result"
    }
   ],
   "source": [
    "# multiple columns\n",
    "A[:,7:]"
   ]
  },
  {
   "cell_type": "code",
   "execution_count": 26,
   "metadata": {},
   "outputs": [
    {
     "name": "stdout",
     "output_type": "stream",
     "text": [
      "Original matrix:\n",
      "\n",
      "[[ 0  1  2  3  4  5  6  7  8  9]\n",
      " [10 11 12 13 14 15 16 17 18 19]\n",
      " [20 21 22 23 24 25 26 27 28 29]\n",
      " [30 31 32 33 34 35 36 37 38 39]\n",
      " [40 41 42 43 44 45 46 47 48 49]\n",
      " [50 51 52 53 54 55 56 57 58 59]]\n",
      "\n",
      "\n",
      "Submatrix:\n",
      "\n",
      "[[10 11 12 13 14]\n",
      " [20 21 22 23 24]\n",
      " [30 31 32 33 34]]\n"
     ]
    }
   ],
   "source": [
    "# extract a submatrix from rows 2-4 and columns 1-5 \n",
    "sub = A[1:4:1,0:5:1]\n",
    "\n",
    "# print them out\n",
    "print('Original matrix:\\n')\n",
    "print(A)\n",
    "\n",
    "print('\\n\\nSubmatrix:\\n')\n",
    "print(sub)"
   ]
  },
  {
   "cell_type": "code",
   "execution_count": null,
   "metadata": {},
   "outputs": [],
   "source": []
  }
 ],
 "metadata": {
  "kernelspec": {
   "display_name": ".venv",
   "language": "python",
   "name": "python3"
  },
  "language_info": {
   "codemirror_mode": {
    "name": "ipython",
    "version": 3
   },
   "file_extension": ".py",
   "mimetype": "text/x-python",
   "name": "python",
   "nbconvert_exporter": "python",
   "pygments_lexer": "ipython3",
   "version": "3.11.9"
  }
 },
 "nbformat": 4,
 "nbformat_minor": 2
}
