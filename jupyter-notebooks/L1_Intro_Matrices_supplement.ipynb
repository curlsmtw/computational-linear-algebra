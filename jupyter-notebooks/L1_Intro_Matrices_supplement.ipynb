{
 "cells": [
  {
   "cell_type": "markdown",
   "id": "88ef80b0",
   "metadata": {},
   "source": [
    "# Hadamard multiplication (example)"
   ]
  },
  {
   "cell_type": "code",
   "execution_count": null,
   "id": "7566e23d",
   "metadata": {},
   "outputs": [],
   "source": [
    "import numpy as np\n",
    "import matplotlib.pyplot as plt\n",
    "\n",
    "# Create a 5x5 example image (a matrix representing pixel intensities)\n",
    "image = np.array([\n",
    "    [100, 200, 150, 100, 50],\n",
    "    [120, 220, 180, 120, 60],\n",
    "    [140, 240, 200, 140, 70],\n",
    "    [160, 260, 220, 160, 80],\n",
    "    [180, 280, 240, 180, 90]\n",
    "])\n",
    "\n",
    "# Create a mask matrix of the same size (0 to suppress, 1 to retain)\n",
    "mask = np.array([\n",
    "    [1, 1, 0, 0, 0],\n",
    "    [1, 1, 0, 0, 0],\n",
    "    [0, 0, 1, 1, 0],\n",
    "    [0, 0, 1, 1, 0],\n",
    "    [0, 0, 0, 0, 1]\n",
    "])\n",
    "\n",
    "# Perform Hadamard (element-wise) multiplication\n",
    "masked_image = image * mask\n",
    "\n",
    "# Display original image and masked image\n",
    "plt.figure(figsize=(10, 5))\n",
    "\n",
    "plt.subplot(1, 2, 1)\n",
    "plt.title(\"Original Image\")\n",
    "plt.imshow(image, cmap='gray')\n",
    "plt.colorbar()\n",
    "\n",
    "plt.subplot(1, 2, 2)\n",
    "plt.title(\"Masked Image\")\n",
    "plt.imshow(masked_image, cmap='gray')\n",
    "plt.colorbar()\n",
    "\n",
    "plt.show()"
   ]
  },
  {
   "cell_type": "code",
   "execution_count": null,
   "id": "c9981cb7",
   "metadata": {},
   "outputs": [],
   "source": []
  }
 ],
 "metadata": {
  "kernelspec": {
   "display_name": ".venv",
   "language": "python",
   "name": "python3"
  },
  "language_info": {
   "codemirror_mode": {
    "name": "ipython",
    "version": 3
   },
   "file_extension": ".py",
   "mimetype": "text/x-python",
   "name": "python",
   "nbconvert_exporter": "python",
   "pygments_lexer": "ipython3",
   "version": "3.11.9"
  }
 },
 "nbformat": 4,
 "nbformat_minor": 5
}
