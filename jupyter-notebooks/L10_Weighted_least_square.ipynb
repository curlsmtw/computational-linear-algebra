{
 "cells": [
  {
   "cell_type": "markdown",
   "id": "f90a44be",
   "metadata": {},
   "source": [
    "# Example 1:"
   ]
  },
  {
   "cell_type": "code",
   "execution_count": 1,
   "id": "b8c5171c",
   "metadata": {},
   "outputs": [
    {
     "name": "stdout",
     "output_type": "stream",
     "text": [
      "Intercept (beta_0): 4.35\n",
      "Slope (beta_1): 0.20\n"
     ]
    }
   ],
   "source": [
    "# Python Code for Example 1: Weighted Least-Squares Line\n",
    "\n",
    "import numpy as np\n",
    "\n",
    "# Data points\n",
    "X = np.array([[1, -2],\n",
    "              [1, -1],\n",
    "              [1, 0],\n",
    "              [1, 1],\n",
    "              [1, 2]])\n",
    "y = np.array([3, 5, 5, 4, 3])\n",
    "\n",
    "# Weighting matrix W\n",
    "W = np.diag([2, 2, 2, 1, 1])\n",
    "\n",
    "# Compute weighted matrices\n",
    "WX = W @ X\n",
    "Wy = W @ y\n",
    "\n",
    "# Normal equations\n",
    "A = WX.T @ WX\n",
    "b = WX.T @ Wy\n",
    "\n",
    "# Solve for beta (least-squares solution)\n",
    "beta = np.linalg.solve(A, b)\n",
    "\n",
    "# Print the results\n",
    "print(f\"Intercept (beta_0): {beta[0]:.2f}\")\n",
    "print(f\"Slope (beta_1): {beta[1]:.2f}\")\n"
   ]
  },
  {
   "cell_type": "markdown",
   "id": "f30eb0d9",
   "metadata": {},
   "source": [
    "# Example 2:"
   ]
  },
  {
   "cell_type": "code",
   "execution_count": 5,
   "id": "dd928856",
   "metadata": {},
   "outputs": [
    {
     "name": "stdout",
     "output_type": "stream",
     "text": [
      "Velocity at t=4.5 seconds (OLS): 52.9947 ft/s\n",
      "Velocity at t=4.5 seconds (Weighted): 53.1984 ft/s\n"
     ]
    }
   ],
   "source": [
    "# Python code for Airplane Takeoff Performance\n",
    "import numpy as np\n",
    "from numpy.linalg import inv\n",
    "import matplotlib.pyplot as plt\n",
    "\n",
    "# Data: Time (t) and Positions (y)\n",
    "t = np.arange(13)\n",
    "y = np.array([0, 9.8, 29.9, 62.0, 104.7, 159.1, 222.0, 294.5, 380.4, 471.1, 571.7, 686.8, 809.2])\n",
    "\n",
    "# Part (a): Ordinary Least Squares for Cubic Fit\n",
    "X = np.vstack([np.ones_like(t), t, t**2, t**3]).T\n",
    "beta = inv(X.T @ X) @ X.T @ y\n",
    "\n",
    "# Part (b): Estimate Velocity at t=4.5\n",
    "velocity = beta[1] + 2 * beta[2] * 4.5 + 3 * beta[3] * (4.5**2)\n",
    "print(f\"Velocity at t=4.5 seconds (OLS): {velocity:.4f} ft/s\")\n",
    "\n",
    "# Part (c): Weighted Least Squares Fit\n",
    "weights = np.array([1,1,1,0.9,0.9,0.8,0.7,0.6,0.5,0.4,0.3,0.2,0.1])\n",
    "W = np.diag(weights)\n",
    "beta_w = inv(X.T @ W @ X) @ X.T @ W @ y\n",
    "\n",
    "# Estimate Velocity with Weighted Fit\n",
    "target_t = 4.5\n",
    "velocity_w = beta_w[1] + 2 * beta_w[2] * target_t + 3 * beta_w[3] * (target_t**2)\n",
    "print(f\"Velocity at t=4.5 seconds (Weighted): {velocity_w:.4f} ft/s\")\n",
    "\n",
    "\n"
   ]
  },
  {
   "cell_type": "code",
   "execution_count": null,
   "id": "72749356",
   "metadata": {},
   "outputs": [],
   "source": []
  }
 ],
 "metadata": {
  "kernelspec": {
   "display_name": "Python 3 (ipykernel)",
   "language": "python",
   "name": "python3"
  },
  "language_info": {
   "codemirror_mode": {
    "name": "ipython",
    "version": 3
   },
   "file_extension": ".py",
   "mimetype": "text/x-python",
   "name": "python",
   "nbconvert_exporter": "python",
   "pygments_lexer": "ipython3",
   "version": "3.9.7"
  }
 },
 "nbformat": 4,
 "nbformat_minor": 5
}
