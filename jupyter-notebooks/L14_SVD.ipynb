{
 "cells": [
  {
   "cell_type": "markdown",
   "id": "ada4962c",
   "metadata": {},
   "source": [
    "# Example 1: Find the singular values of a matrix $A=\\begin{bmatrix}1 & 1 \\\\1 & 0 \\\\0 & 1\\end{bmatrix}$"
   ]
  },
  {
   "cell_type": "code",
   "execution_count": 6,
   "id": "7d940d28",
   "metadata": {},
   "outputs": [
    {
     "name": "stdout",
     "output_type": "stream",
     "text": [
      "Singular values: [1.73205081 1.        ]\n"
     ]
    }
   ],
   "source": [
    "import numpy as np\n",
    "# the matrix\n",
    "A = [ [1,1], [1, 0], [0,1] ]\n",
    "# returns only the singular values without computing the full decomposition.\n",
    "singular_values = np.linalg.svd(A,compute_uv=False)\n",
    "print(\"Singular values:\", singular_values)\n"
   ]
  },
  {
   "cell_type": "markdown",
   "id": "fb563def",
   "metadata": {},
   "source": [
    "# Example 2: FInd a singular value decomposition for the matrix $A=\\begin{bmatrix}1 & 1 & 0\\\\0 & 0 & 1\\end{bmatrix}$"
   ]
  },
  {
   "cell_type": "code",
   "execution_count": 7,
   "id": "bbfe19dc",
   "metadata": {},
   "outputs": [
    {
     "name": "stdout",
     "output_type": "stream",
     "text": [
      "U= [[1. 0.]\n",
      " [0. 1.]]\n",
      " \n",
      "the array of singular values S= [1.41421356 1.        ]\n",
      " \n",
      "V^{T}= [[ 0.70710678  0.70710678  0.        ]\n",
      " [-0.          0.          1.        ]\n",
      " [ 0.70710678 -0.70710678  0.        ]]\n"
     ]
    },
    {
     "data": {
      "image/png": "[encoded data removed]",
      "text/plain": [
       "<Figure size 432x288 with 4 Axes>"
      ]
     },
     "metadata": {
      "needs_background": "light"
     },
     "output_type": "display_data"
    }
   ],
   "source": [
    "import numpy as np\n",
    "import matplotlib.pyplot as plt\n",
    "# the matrix\n",
    "A = [ [1,1,0], [0,0,1] ]\n",
    "\n",
    "# Note differences from MATLAB: S is vector (not matrix), V is V^{T}(transposed)\n",
    "U,S,V = np.linalg.svd(A)\n",
    "\n",
    "# visualization\n",
    "print(\"U=\", U), print(' ')\n",
    "print(\"the array of singular values S=\", S), print(' ')\n",
    "print(\"V^{T}=\", V)\n",
    "\n",
    "plt.subplot(141)\n",
    "plt.imshow(A)\n",
    "plt.title('A')\n",
    "plt.axis('off')\n",
    "\n",
    "plt.subplot(142)\n",
    "plt.imshow(U)\n",
    "plt.title('U')\n",
    "plt.axis('off')\n",
    "\n",
    "plt.subplot(143)\n",
    "plt.imshow(np.diag(S))\n",
    "plt.title('$\\Sigma$')\n",
    "plt.axis('off')\n",
    "\n",
    "plt.subplot(144)\n",
    "plt.imshow(V)\n",
    "plt.title('$V^T$')\n",
    "plt.axis('off')\n",
    "\n",
    "plt.show()"
   ]
  },
  {
   "cell_type": "markdown",
   "id": "614a10b6",
   "metadata": {},
   "source": [
    "# Example 3: Find a singular value decomposition for  the matrix $A=\\begin{bmatrix}1 & 1 \\\\1 & 0 \\\\0 & 1\\end{bmatrix}$"
   ]
  },
  {
   "cell_type": "code",
   "execution_count": 8,
   "id": "c4a93423",
   "metadata": {},
   "outputs": [
    {
     "name": "stdout",
     "output_type": "stream",
     "text": [
      "U= [[-8.16496581e-01  1.66533454e-16 -5.77350269e-01]\n",
      " [-4.08248290e-01 -7.07106781e-01  5.77350269e-01]\n",
      " [-4.08248290e-01  7.07106781e-01  5.77350269e-01]]\n",
      " \n",
      "the array of singular values S= [1.73205081 1.        ]\n",
      " \n",
      "V^{T}= [[-0.70710678 -0.70710678]\n",
      " [-0.70710678  0.70710678]]\n",
      "Reconstructed A:\n",
      " [[ 1.00000000e+00  1.00000000e+00]\n",
      " [ 1.00000000e+00 -5.55111512e-17]\n",
      " [ 1.11022302e-16  1.00000000e+00]]\n"
     ]
    },
    {
     "data": {
      "image/png": "[encoded data removed]",
      "text/plain": [
       "<Figure size 432x288 with 5 Axes>"
      ]
     },
     "metadata": {
      "needs_background": "light"
     },
     "output_type": "display_data"
    }
   ],
   "source": [
    "import numpy as np\n",
    "# the matrix\n",
    "A = [ [1,1], [1,0], [0,1] ]\n",
    "\n",
    "# Note differences from MATLAB: S is vector (not matrix), V is V^{T}(transposed)\n",
    "U,S,V = np.linalg.svd(A)\n",
    "\n",
    "print(\"U=\", U), print(' ')\n",
    "print(\"the array of singular values S=\", S), print(' ')\n",
    "print(\"V^{T}=\", V)\n",
    "\n",
    "# Create a diagonal matrix from S\n",
    "Sigma = np.zeros((U.shape[1], V.shape[0]))\n",
    "np.fill_diagonal(Sigma, S)\n",
    "\n",
    "# Reconstruct A\n",
    "A1 = U @ Sigma @ V\n",
    "\n",
    "print(\"Reconstructed A:\\n\", A1)\n",
    "\n",
    "# visualization\n",
    "plt.subplot(151)\n",
    "plt.imshow(A)\n",
    "plt.title('A')\n",
    "plt.axis('off')\n",
    "\n",
    "plt.subplot(152)\n",
    "plt.imshow(U)\n",
    "plt.title('U')\n",
    "plt.axis('off')\n",
    "\n",
    "plt.subplot(153)\n",
    "plt.imshow(np.diag(S))\n",
    "plt.title('$\\Sigma$')\n",
    "plt.axis('off')\n",
    "\n",
    "plt.subplot(154)\n",
    "plt.imshow(V)\n",
    "plt.title('$V^T$')\n",
    "plt.axis('off')\n",
    "\n",
    "plt.subplot(155)\n",
    "plt.imshow(A1)\n",
    "plt.title('$U\\Sigma V^{T}$')\n",
    "plt.axis('off')\n",
    "\n",
    "plt.show()"
   ]
  },
  {
   "cell_type": "markdown",
   "id": "eb1577d4",
   "metadata": {},
   "source": [
    "# Example 4: Find a singular value decomposition for  the matrix $A=\\begin{bmatrix}4 & 11 & 14 \\\\8 & 7 & -2\\end{bmatrix}$"
   ]
  },
  {
   "cell_type": "code",
   "execution_count": 9,
   "id": "0b684137",
   "metadata": {},
   "outputs": [
    {
     "name": "stdout",
     "output_type": "stream",
     "text": [
      "U= [[ 0.9486833  -0.31622777]\n",
      " [ 0.31622777  0.9486833 ]]\n",
      " \n",
      "the array of singular values S= [18.97366596  9.48683298]\n",
      " \n",
      "V^{T}= [[ 0.33333333  0.66666667  0.66666667]\n",
      " [ 0.66666667  0.33333333 -0.66666667]\n",
      " [-0.66666667  0.66666667 -0.33333333]]\n"
     ]
    }
   ],
   "source": [
    "import numpy as np\n",
    "# the matrix\n",
    "A = [ [4,11,14], [8,7,-2] ]\n",
    "\n",
    "# Note differences from MATLAB: S is vector (not matrix), V is V^{T}(transposed)\n",
    "U,S,V = np.linalg.svd(A)\n",
    "\n",
    "print(\"U=\", U), print(' ')\n",
    "print(\"the array of singular values S=\", S), print(' ')\n",
    "print(\"V^{T}=\", V)"
   ]
  },
  {
   "cell_type": "markdown",
   "id": "9a040775",
   "metadata": {},
   "source": [
    "# Example 5: Find a singular value decomposition for  the matrix $A=\\begin{bmatrix}1 & -1 \\\\-2 & 2 \\\\2 & -2\\end{bmatrix}$"
   ]
  },
  {
   "cell_type": "code",
   "execution_count": 10,
   "id": "9449134c",
   "metadata": {},
   "outputs": [
    {
     "name": "stdout",
     "output_type": "stream",
     "text": [
      "U= [[-0.33333333  0.66666667 -0.66666667]\n",
      " [ 0.66666667  0.66666667  0.33333333]\n",
      " [-0.66666667  0.33333333  0.66666667]]\n",
      " \n",
      "the array of singular values S= [4.24264069 0.        ]\n",
      " \n",
      "V^{T}= [[-0.70710678  0.70710678]\n",
      " [ 0.70710678  0.70710678]]\n"
     ]
    }
   ],
   "source": [
    "import numpy as np\n",
    "# the matrix\n",
    "A = [ [1,-1], [-2,2], [2,-2] ]\n",
    "\n",
    "# Note differences from MATLAB: S is vector (not matrix), V is V^{T}(transposed)\n",
    "U,S,V = np.linalg.svd(A)\n",
    "\n",
    "print(\"U=\", U), print(' ')\n",
    "print(\"the array of singular values S=\", S), print(' ')\n",
    "print(\"V^{T}=\", V)"
   ]
  },
  {
   "cell_type": "markdown",
   "id": "ae179cde",
   "metadata": {},
   "source": [
    "# Example 6: Generate a $4 \\times 6$ random matrix $A$. Compute the Singular Value Decomposition (SVD) of $A$ to obtain matrices $U$, $\\Sigma$, and $V^T$. Display the original matrix, the left singular vectors, the singular values, and the right singular vectors as grayscale images with appropriate titles.\n"
   ]
  },
  {
   "cell_type": "code",
   "execution_count": 23,
   "id": "4da4dc1e",
   "metadata": {},
   "outputs": [
    {
     "data": {
      "image/png": "[encoded data removed]",
      "text/plain": [
       "<Figure size 720x432 with 4 Axes>"
      ]
     },
     "metadata": {
      "needs_background": "light"
     },
     "output_type": "display_data"
    }
   ],
   "source": [
    "import numpy as np\n",
    "import matplotlib.pyplot as plt\n",
    "A = np.random.randn(4,6)\n",
    "# its SVD\n",
    "U,s,Vt = np.linalg.svd(A)\n",
    "# create Sigma from sigma's\n",
    "S = np.zeros(np.shape(A))\n",
    "np.fill_diagonal(S,s)\n",
    "# show the matrices\n",
    "_,axs = plt.subplots(1,4,figsize=(10,6))\n",
    "axs[0].imshow(A,cmap='gray',aspect='equal')\n",
    "axs[0].set_title('$\\mathbf{A}$\\nThe matrix')\n",
    "axs[1].imshow(U,cmap='gray',aspect='equal')\n",
    "axs[1].set_title('$\\mathbf{U}$\\n(left singular vects)')\n",
    "axs[2].imshow(S,cmap='gray',aspect='equal')\n",
    "axs[2].set_title('$\\mathbf{\\Sigma}$\\n(singular vals)')\n",
    "axs[3].imshow(Vt,cmap='gray',aspect='equal')\n",
    "axs[3].set_title('$\\mathbf{V}$\\n(right singular vects)')\n",
    "plt.tight_layout()\n",
    "plt.savefig('SVD_example.png',dpi=300)\n",
    "plt.show()\n"
   ]
  },
  {
   "cell_type": "markdown",
   "id": "0b654db4",
   "metadata": {},
   "source": [
    "# Example 7: \n",
    "(1) Show that for a symmetric matrix, the singular values and the eigenvalues are the same.\n",
    "(2)  Show for a symmetric matrix left and right singular vectors (U and V) are the same. \n",
    "(3) Show that for a symmetric matrix  the eigenvectors and singular vectors should be identical or differ only by a sign. "
   ]
  },
  {
   "cell_type": "code",
   "execution_count": 34,
   "id": "0e7d2a8f",
   "metadata": {},
   "outputs": [
    {
     "name": "stdout",
     "output_type": "stream",
     "text": [
      "eigenvalues: [1.20179184e-04 1.39057553e+00 3.58500748e+00 7.79192303e+00\n",
      " 1.09411296e+01]\n",
      "singular values: [1.20179184e-04 1.39057553e+00 3.58500748e+00 7.79192303e+00\n",
      " 1.09411296e+01]\n",
      "Left singular vectors (U):\n",
      " [[-0.65887106  0.2444137  -0.05944381  0.68281371 -0.19074258]\n",
      " [ 0.05440505 -0.55718831  0.62562074  0.40695939  0.35995003]\n",
      " [-0.14166015 -0.77572681 -0.57572728  0.03110704 -0.2138943 ]\n",
      " [-0.50792608  0.01491492 -0.2022209  -0.2940957   0.78383868]\n",
      " [ 0.5337345   0.16681904 -0.48240018  0.52980144  0.41701247]]\n",
      "Right singular vectors (V):\n",
      " [[-0.65887106  0.2444137  -0.05944381  0.68281371 -0.19074258]\n",
      " [ 0.05440505 -0.55718831  0.62562074  0.40695939  0.35995003]\n",
      " [-0.14166015 -0.77572681 -0.57572728  0.03110704 -0.2138943 ]\n",
      " [-0.50792608  0.01491492 -0.2022209  -0.2940957   0.78383868]\n",
      " [ 0.5337345   0.16681904 -0.48240018  0.52980144  0.41701247]]\n",
      "\n",
      "Eigenvectors:\n",
      " [[ 0.65887106 -0.2444137   0.19074258  0.68281371  0.05944381]\n",
      " [-0.05440505  0.55718831 -0.35995003  0.40695939 -0.62562074]\n",
      " [ 0.14166015  0.77572681  0.2138943   0.03110704  0.57572728]\n",
      " [ 0.50792608 -0.01491492 -0.78383868 -0.2940957   0.2022209 ]\n",
      " [-0.5337345  -0.16681904 -0.41701247  0.52980144  0.48240018]]\n"
     ]
    }
   ],
   "source": [
    "import numpy as np\n",
    "import matplotlib.pyplot as plt\n",
    "A = np.random.randn(5,5)\n",
    "A = A.T@A\n",
    "# extract eigenvalues and singular values\n",
    "eigvals = np.linalg.eig(A)[0]\n",
    "sinvals = np.linalg.svd(A)[1]\n",
    "# they're the same!\n",
    "print(\"eigenvalues:\", np.sort(eigvals))\n",
    "print(\"singular values:\",np.sort(sinvals))\n",
    "\n",
    "# Compute SVD of A\n",
    "U, S, Vt = np.linalg.svd(A)\n",
    "\n",
    "# Compute Eigen decomposition of A\n",
    "eigvals, eigvecs = np.linalg.eig(A)\n",
    "\n",
    "# Compare left singular vectors (U) with eigenvectors and rightsingular vectors\n",
    "print(\"Left singular vectors (U):\\n\", U)\n",
    "print(\"Right singular vectors (V):\\n\", Vt.T)\n",
    "print(\"\\nEigenvectors:\\n\", eigvecs)\n",
    "\n"
   ]
  },
  {
   "cell_type": "markdown",
   "id": "4c33bacf",
   "metadata": {},
   "source": [
    "# Example 8: Use SVD to compute pseudoinverse of $A=\\begin{bmatrix}1 & 2 & 3\\\\ 1 & 2 & 4\\\\ 1 & 2 & 5\\end{bmatrix}$.\n"
   ]
  },
  {
   "cell_type": "code",
   "execution_count": 11,
   "id": "23fd5f15",
   "metadata": {},
   "outputs": [
    {
     "name": "stdout",
     "output_type": "stream",
     "text": [
      "Ai A= [[ 2.00000000e-01  4.00000000e-01  2.22044605e-16]\n",
      " [ 4.00000000e-01  8.00000000e-01 -2.22044605e-16]\n",
      " [-5.55111512e-17 -1.11022302e-16  1.00000000e+00]]\n",
      " \n",
      "ApiA= [[ 2.00000000e-01  4.00000000e-01  2.22044605e-16]\n",
      " [ 4.00000000e-01  8.00000000e-01 -2.22044605e-16]\n",
      " [-1.11022302e-16 -2.22044605e-16  1.00000000e+00]]\n"
     ]
    }
   ],
   "source": [
    "import numpy as np\n",
    "import matplotlib.pyplot as plt\n",
    "# the matrix\n",
    "A = [ [1,2,3],\n",
    "      [1,2,4], # hint: change 2->0 for invertible matrix to test\n",
    "      [1,2,5]  ] \n",
    "# SVD\n",
    "U,S,V = np.linalg.svd(A)\n",
    "# pseudoinvert S\n",
    "nonzeroels = S>10**-14 # find nonzero elements (>rounding errors)\n",
    "S[nonzeroels] = 1/S[nonzeroels] # invert only those elements\n",
    "# now pseudoinvert A\n",
    "Ai = V.T@np.diag(S)@U.T\n",
    "# it's sortof close to I...?\n",
    "print( \"Ai A=\", Ai@A ), print(' ')\n",
    "# compute with pinv function\n",
    "Api= np.linalg.pinv(A)\n",
    "print( \"ApiA=\", np.linalg.pinv(A)@A )\n",
    "\n"
   ]
  },
  {
   "cell_type": "markdown",
   "id": "ea36e95b",
   "metadata": {},
   "source": [
    "# Example 9: Demonstrate that the pseudoinverse of a tall matrix equals its left-inverse, and the pseudoinverse of a wide matrix equals its right-inverse.  \n"
   ]
  },
  {
   "cell_type": "code",
   "execution_count": 12,
   "id": "a9bc0cb6",
   "metadata": {
    "scrolled": true
   },
   "outputs": [
    {
     "name": "stdout",
     "output_type": "stream",
     "text": [
      "Linv-Apinv= [[-0.  0.  0. -0. -0.  0.]\n",
      " [-0. -0.  0. -0. -0.  0.]\n",
      " [ 0.  0. -0. -0. -0.  0.]\n",
      " [-0.  0. -0.  0. -0.  0.]]\n",
      "Rinv-Bpinv= [[ 0.  0.  0. -0.]\n",
      " [ 0. -0. -0.  0.]\n",
      " [ 0. -0. -0.  0.]\n",
      " [ 0.  0.  0. -0.]\n",
      " [ 0. -0. -0.  0.]\n",
      " [ 0.  0.  0.  0.]]\n"
     ]
    }
   ],
   "source": [
    "import numpy as np\n",
    " # left-inverse\n",
    "A = np.random.randn(6,4)\n",
    "# explicit left inverse\n",
    "Linv = np.linalg.inv(A.T@A)@A.T\n",
    "# pinv\n",
    "Apinv = np.linalg.pinv(A)\n",
    "# compare\n",
    "print(\"Linv-Apinv=\", np.round( Linv - Apinv ,5))\n",
    "# right-inverse\n",
    "B = np.random.randn(4,6)\n",
    "# explicit right inverse\n",
    "Rinv = B.T@np.linalg.inv(B@B.T)\n",
    "# pinv\n",
    "Bpinv = np.linalg.pinv(B)\n",
    "# compare\n",
    "print(\"Rinv-Bpinv=\", np.round( Rinv - Bpinv ,5))"
   ]
  },
  {
   "cell_type": "markdown",
   "id": "1bbd02e0",
   "metadata": {},
   "source": [
    "#  Example 11: Apply Singular Value Decomposition (SVD) to compress a grayscale image.\n"
   ]
  },
  {
   "cell_type": "code",
   "execution_count": 13,
   "id": "5ad7aa64",
   "metadata": {},
   "outputs": [
    {
     "data": {
      "image/png": "[encoded data removed]",
      "text/plain": [
       "<Figure size 576x360 with 1 Axes>"
      ]
     },
     "metadata": {
      "needs_background": "light"
     },
     "output_type": "display_data"
    },
    {
     "data": {
      "image/png": "[encoded data removed]",
      "text/plain": [
       "<Figure size 864x432 with 6 Axes>"
      ]
     },
     "metadata": {
      "needs_background": "light"
     },
     "output_type": "display_data"
    },
    {
     "name": "stdout",
     "output_type": "stream",
     "text": [
      "Compression Ratios for Selected Ranks:\n",
      "Rank 1: Compression Ratio = 0.0404\n",
      "Rank 5: Compression Ratio = 0.2020\n",
      "Rank 10: Compression Ratio = 0.4040\n",
      "Rank 20: Compression Ratio = 0.8080\n",
      "Rank 50: Compression Ratio = 2.0200\n"
     ]
    }
   ],
   "source": [
    "# Import required libraries\n",
    "import numpy as np\n",
    "import matplotlib.pyplot as plt\n",
    "from skimage import data, color\n",
    "from skimage.transform import resize\n",
    "\n",
    "# Load the astronaut image and convert to grayscale\n",
    "image_rgb = data.astronaut()\n",
    "image_gray = color.rgb2gray(image_rgb)\n",
    "image_gray = resize(image_gray, (50, 50))  # Resize for faster processing\n",
    "\n",
    "# Apply SVD\n",
    "U, S, VT = np.linalg.svd(image_gray, full_matrices=False)\n",
    "\n",
    "# Plot the scree plot of singular values\n",
    "plt.figure(figsize=(8, 5))\n",
    "plt.plot(S, marker='o', linestyle='--')\n",
    "plt.title(\"Scree Plot of Singular Values\")\n",
    "plt.xlabel(\"Singular Value Index\")\n",
    "plt.ylabel(\"Singular Value Magnitude\")\n",
    "plt.grid(alpha=0.3)\n",
    "plt.savefig('SVD_scree_plot.png',dpi=300)\n",
    "plt.show()\n",
    "\n",
    "# Reconstruct the image by adding layers (rank-1 matrices)\n",
    "def reconstruct_image(U, S, VT, k):\n",
    "    m, n = U.shape[0], VT.shape[1]\n",
    "    A_k = np.zeros((m, n))\n",
    "    for i in range(k):\n",
    "        A_k += S[i] * np.outer(U[:, i], VT[i, :])\n",
    "    return A_k\n",
    "\n",
    "# Function to calculate compression ratio\n",
    "def compression_ratio(m, n, k):\n",
    "    original_size = m * n\n",
    "    compressed_size = k * (m + n + 1)\n",
    "    return compressed_size / original_size\n",
    "\n",
    "\n",
    "# Define ranks to visualize\n",
    "ranks = [1, 5, 10, 20, 50]\n",
    "m, n = image_gray.shape\n",
    "\n",
    "# Plot original and reconstructed images\n",
    "plt.figure(figsize=(12, 6))\n",
    "plt.subplot(2, 3, 1)\n",
    "plt.imshow(image_gray, cmap='gray')\n",
    "plt.title(\"Original Image\")\n",
    "plt.axis('off')\n",
    "\n",
    "for i, rank in enumerate(ranks):\n",
    "    A_k = reconstruct_image(U, S, VT, rank)\n",
    "    plt.subplot(2, 3, i + 2)\n",
    "    plt.imshow(A_k, cmap='gray')\n",
    "    plt.title(f\"Rank {rank}\")\n",
    "    plt.axis('off')\n",
    "\n",
    "plt.tight_layout()\n",
    "plt.savefig('SVD_image_compression.png',dpi=300)\n",
    "plt.show()\n",
    "\n",
    "# Calculate and display compression ratios\n",
    "print(\"Compression Ratios for Selected Ranks:\")\n",
    "for k in ranks:\n",
    "    ratio = compression_ratio(m, n, k)\n",
    "    print(f\"Rank {k}: Compression Ratio = {ratio:.4f}\")\n",
    "\n"
   ]
  },
  {
   "cell_type": "code",
   "execution_count": null,
   "id": "eb2ff33f",
   "metadata": {},
   "outputs": [],
   "source": []
  }
 ],
 "metadata": {
  "kernelspec": {
   "display_name": "Python 3 (ipykernel)",
   "language": "python",
   "name": "python3"
  },
  "language_info": {
   "codemirror_mode": {
    "name": "ipython",
    "version": 3
   },
   "file_extension": ".py",
   "mimetype": "text/x-python",
   "name": "python",
   "nbconvert_exporter": "python",
   "pygments_lexer": "ipython3",
   "version": "3.9.7"
  }
 },
 "nbformat": 4,
 "nbformat_minor": 5
}
