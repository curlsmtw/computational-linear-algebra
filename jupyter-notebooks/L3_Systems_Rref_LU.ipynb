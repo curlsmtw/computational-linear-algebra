{
 "cells": [
  {
   "cell_type": "markdown",
   "metadata": {
    "id": "pq-JEewsnKHm"
   },
   "source": [
    "# Systems of Equations. RREF. LU Decomposition"
   ]
  },
  {
   "cell_type": "code",
   "execution_count": 14,
   "metadata": {
    "id": "GVWZlfT-nThD"
   },
   "outputs": [],
   "source": [
    "import numpy as np\n",
    "import matplotlib.pyplot as plt\n",
    "\n",
    "# sympy library for RREF\n",
    "import sympy as sym\n",
    "\n",
    "# scipy for LU\n",
    "import scipy.linalg\n",
    "\n",
    "\n",
    "# used to create non-regular subplots\n",
    "import matplotlib.gridspec as gridspec"
   ]
  },
  {
   "cell_type": "markdown",
   "metadata": {
    "id": "bfu3STmJ6w5h"
   },
   "source": [
    "# RREF"
   ]
  },
  {
   "cell_type": "code",
   "execution_count": 28,
   "metadata": {
    "id": "A6g4eOq81ejx"
   },
   "outputs": [
    {
     "name": "stdout",
     "output_type": "stream",
     "text": [
      "[[ 1.   1.   4. ]\n",
      " [-0.5  1.   2. ]]\n",
      "Matrix([[1.00000000000000, 1.00000000000000, 4.00000000000000], [-0.500000000000000, 1.00000000000000, 2.00000000000000]])\n"
     ]
    },
    {
     "data": {
      "text/latex": [
       "$\\displaystyle \\left[\\begin{matrix}1 & 0 & 1.33333333333333\\\\0 & 1 & 2.66666666666667\\end{matrix}\\right]$"
      ],
      "text/plain": [
       "Matrix([\n",
       "[1, 0, 1.33333333333333],\n",
       "[0, 1, 2.66666666666667]])"
      ]
     },
     "execution_count": 28,
     "metadata": {},
     "output_type": "execute_result"
    }
   ],
   "source": [
    "# the augmented matrix\n",
    "M = np.array([ [1,1,4],[-1/2,1,2] ])\n",
    "print(M)\n",
    "# numpy does not have a function to compute RREF of a matrix, but the sympy library does.\n",
    "# converted into a sympy matrix\n",
    "symMat = sym.Matrix(M)\n",
    "print(symMat)\n",
    "\n",
    "# RREF\n",
    "symMat.rref()[0] # just the first output to get the RREF matrix (the second output is the indices of the pivots per row)"
   ]
  },
  {
   "cell_type": "code",
   "execution_count": 29,
   "metadata": {},
   "outputs": [
    {
     "name": "stdout",
     "output_type": "stream",
     "text": [
      "Matrix([[1, 2, 3], [4, 5, 6], [7, 8, 9]])\n",
      " \n",
      "RREF using sympy:\n",
      "(Matrix([\n",
      "[1, 0, -1],\n",
      "[0, 1,  2],\n",
      "[0, 0,  0]]), (0, 1))\n"
     ]
    },
    {
     "data": {
      "text/latex": [
       "$\\displaystyle \\left[\\begin{matrix}1 & 0 & -1\\\\0 & 1 & 2\\\\0 & 0 & 0\\end{matrix}\\right]$"
      ],
      "text/plain": [
       "Matrix([\n",
       "[1, 0, -1],\n",
       "[0, 1,  2],\n",
       "[0, 0,  0]])"
      ]
     },
     "execution_count": 29,
     "metadata": {},
     "output_type": "execute_result"
    }
   ],
   "source": [
    "from sympy import Matrix\n",
    "\n",
    "# Define the matrix\n",
    "matrix = Matrix([\n",
    "    [1, 2, 3],\n",
    "    [4, 5, 6],\n",
    "    [7, 8, 9]\n",
    "])\n",
    "print(matrix),print(' ')\n",
    "\n",
    "# Compute RREF\n",
    "rref_matrix=matrix.rref()\n",
    "print(\"RREF using sympy:\")\n",
    "print(rref_matrix)\n",
    "matrix.rref()[0]"
   ]
  },
  {
   "cell_type": "code",
   "execution_count": 30,
   "metadata": {
    "id": "Stg-pxfE1emn"
   },
   "outputs": [
    {
     "name": "stdout",
     "output_type": "stream",
     "text": [
      "[[1 0 0 0]\n",
      " [0 1 0 0]\n",
      " [0 0 1 0]\n",
      " [0 0 0 1]]\n",
      " \n",
      "[[1 0 0]\n",
      " [0 1 0]\n",
      " [0 0 1]\n",
      " [0 0 0]]\n"
     ]
    }
   ],
   "source": [
    "# make some random matrices (using sympy package)\n",
    "from sympy import Matrix\n",
    "A = Matrix( np.random.randn(4,4) )\n",
    "B = Matrix( np.random.randn(4,3) )\n",
    "\n",
    "# compute RREF\n",
    "rrefA = A.rref()\n",
    "rrefB = B.rref()\n",
    "\n",
    "# print out the matrix and its rref\n",
    "print(np.array(rrefA[0]))\n",
    "print(' ')\n",
    "print(np.array(rrefB[0]))\n",
    "\n"
   ]
  },
  {
   "cell_type": "markdown",
   "metadata": {
    "id": "NUvmTdmM1epv"
   },
   "source": [
    "# LU"
   ]
  },
  {
   "cell_type": "code",
   "execution_count": 13,
   "metadata": {},
   "outputs": [
    {
     "name": "stdout",
     "output_type": "stream",
     "text": [
      "Matrix A:\n",
      " [[ 1 -1  3]\n",
      " [ 2 -3  1]\n",
      " [ 3  2  1]]\n",
      " \n",
      "U:\n",
      " [[  1  -1   3]\n",
      " [  0  -1  -5]\n",
      " [  0   0 -33]]\n",
      " \n",
      "L:\n",
      " [[ 1.  0.  0.]\n",
      " [ 2.  1.  0.]\n",
      " [ 3. -5.  1.]]\n",
      " \n",
      "LU:\n",
      " [[ 1. -1.  3.]\n",
      " [ 2. -3.  1.]\n",
      " [ 3.  2.  1.]]\n"
     ]
    }
   ],
   "source": [
    "import numpy as np\n",
    "\n",
    "A = np.array([[1, -1, 3],\n",
    "              [2, -3, 1],\n",
    "              [3, 2, 1]])\n",
    "\n",
    "# Print the matrix\n",
    "print(\"Matrix A:\\n\", A), print(' ')\n",
    "\n",
    "# Elimination matrices\n",
    "E21 = np.array([[1, 0, 0],\n",
    "              [-2, 1, 0],\n",
    "              [0, 0, 1]])\n",
    "E31 = np.array([[1, 0, 0],\n",
    "              [0, 1, 0],\n",
    "              [-3, 0, 1]])\n",
    "E32 = np.array([[1, 0, 0],\n",
    "              [0, 1, 0],\n",
    "              [0, 5, 1]])\n",
    "\n",
    "# Upper triangular\n",
    "U=E32@E31@E21@A\n",
    "print(\"U:\\n\",U),print(' ')\n",
    "\n",
    "# inverses of Elimination matrices\n",
    "E21_inv=np.linalg.inv(E21)\n",
    "E31_inv=np.linalg.inv(E31)\n",
    "E32_inv=np.linalg.inv(E32)\n",
    "\n",
    "# Lower triangular\n",
    "L=E21_inv@E31_inv@E32_inv\n",
    "print(\"L:\\n\", L), print(' ')\n",
    "\n",
    "# Verify LU decomposition\n",
    "Answer=L@U\n",
    "print(\"LU:\\n\", Answer)\n"
   ]
  },
  {
   "cell_type": "code",
   "execution_count": 31,
   "metadata": {
    "id": "0ZotHlkZKrfn"
   },
   "outputs": [
    {
     "name": "stdout",
     "output_type": "stream",
     "text": [
      "L: \n",
      "[[1.  0.  0. ]\n",
      " [0.5 1.  0. ]\n",
      " [1.  1.  1. ]]\n",
      " \n",
      "U: \n",
      "[[ 2.  2.  4.]\n",
      " [ 0. -1.  1.]\n",
      " [ 0.  0. -3.]]\n",
      " \n",
      "A - LU: \n",
      "[[0. 0. 0.]\n",
      " [0. 0. 0.]\n",
      " [0. 0. 0.]]\n"
     ]
    }
   ],
   "source": [
    "# NOTE that the function for LU decomposition is in the SciPy library!\n",
    "\n",
    "# a matrix\n",
    "A = np.array([ [2,2,4], [1,0,3], [2,1,2] ])\n",
    "\n",
    "# its LU decomposition via scipy \n",
    "# Here, P (the first value returned by lu) is ignored because it's not relevant for the task. \n",
    "# Using \"_\" makes the intent clear.\n",
    "_,L,U = scipy.linalg.lu(A)\n",
    "# print them out\n",
    "print('L: ')\n",
    "print(L), print(' ')\n",
    "\n",
    "print('U: ')\n",
    "print(U), print(' ')\n",
    "\n",
    "print('A - LU: ')\n",
    "print(A - L@U) # should be zeros"
   ]
  },
  {
   "cell_type": "code",
   "execution_count": 32,
   "metadata": {},
   "outputs": [
    {
     "name": "stdout",
     "output_type": "stream",
     "text": [
      "L (Lower triangular matrix):\n",
      "[[1.         0.         0.        ]\n",
      " [0.66666667 1.         0.        ]\n",
      " [0.33333333 0.28571429 1.        ]]\n",
      "\n",
      "U (Upper triangular matrix):\n",
      "[[ 9.          8.          4.        ]\n",
      " [ 0.         -2.33333333  2.33333333]\n",
      " [ 0.          0.         -1.        ]]\n"
     ]
    }
   ],
   "source": [
    "import numpy as np\n",
    "# Define a matrix A\n",
    "A = np.array([[3, 2, 1],\n",
    "              [6, 3, 5],\n",
    "              [9, 8, 4]])\n",
    "\n",
    "# Perform LU decomposition\n",
    "# Here, P (the first value returned by lu) is ignored because it's not relevant for the task. \n",
    "# Using \"_\" makes the intent clear.\n",
    "_, L, U = scipy.linalg.lu(A)\n",
    "\n",
    "print(\"L (Lower triangular matrix):\")\n",
    "print(L)\n",
    "print(\"\\nU (Upper triangular matrix):\")\n",
    "print(U)\n"
   ]
  },
  {
   "cell_type": "code",
   "execution_count": 20,
   "metadata": {
    "id": "6gKC5wE1UnkY"
   },
   "outputs": [
    {
     "name": "stdout",
     "output_type": "stream",
     "text": [
      "[[0. 0. 0. 0. 1.]\n",
      " [0. 0. 1. 0. 0.]\n",
      " [0. 1. 0. 0. 0.]\n",
      " [1. 0. 0. 0. 0.]\n",
      " [0. 0. 0. 1. 0.]]\n",
      " \n",
      "[[ 1.          0.          0.          0.          0.        ]\n",
      " [-0.07814551  1.          0.          0.          0.        ]\n",
      " [ 0.54380611  0.37587745  1.          0.          0.        ]\n",
      " [ 0.64024873 -0.71642996 -0.41257787  1.          0.        ]\n",
      " [-0.06730657  0.20164466 -0.12532599 -0.74168672  1.        ]]\n",
      " \n",
      "[[-2.29729143  0.8815184  -1.79481731  1.22355525  1.89700874]\n",
      " [ 0.          1.71837267 -2.42732787  0.27918642  0.54219792]\n",
      " [ 0.          0.          3.970938   -1.93766637 -1.55590153]\n",
      " [ 0.          0.          0.          0.32984681 -1.29283494]\n",
      " [ 0.          0.          0.          0.         -1.41470087]]\n"
     ]
    },
    {
     "data": {
      "image/png": "[encoded data removed]",
      "text/plain": [
       "<Figure size 936x288 with 5 Axes>"
      ]
     },
     "metadata": {
      "needs_background": "light"
     },
     "output_type": "display_data"
    }
   ],
   "source": [
    "# matrix sizes\n",
    "m = 5\n",
    "n = 5\n",
    "\n",
    "A = np.random.randn(m,n)\n",
    "\n",
    "P,L,U = scipy.linalg.lu(A)\n",
    "print(P), print(' ')\n",
    "print(L),print(' ')\n",
    "print(U)\n",
    "\n",
    "# show the matrices\n",
    "\n",
    "#Creates one row and five columns of subplots.Sets the figure size to 13 inches wide and 4 inches tall.\n",
    "# axs is a list containing five subplots.\n",
    "fig,axs = plt.subplots(1,4,figsize=(13,4))\n",
    "\n",
    "# Displays matrix A as an image with values between -1 and 1. Labels this subplot as A.\n",
    "axs[0].imshow(A,vmin=-1,vmax=1)\n",
    "axs[0].set_title('A')\n",
    "\n",
    "# Displays matrix P^{T} as an image with values between -1 and 1. Labels this subplot as P^{T}.\n",
    "axs[1].imshow(P.T,vmin=-1,vmax=1)\n",
    "axs[1].set_title(r'P$^T$')\n",
    "\n",
    "# Displays matrix L as an image with values between -1 and 1. Labels this subplot as L.\n",
    "axs[2].imshow(L,vmin=-1,vmax=1)\n",
    "axs[2].set_title('L')\n",
    "\n",
    "# Displays matrix U as an image with values between -1 and 1. Labels this subplot as U.\n",
    "# h stores the image, which will be used for the colorbar later.\n",
    "h = axs[3].imshow(U,vmin=-1,vmax=1)\n",
    "axs[3].set_title('U')\n",
    "\n",
    "#  Formatting all subplots. Hides axis ticks and labels.Ensures consistent x-axis limits for all subplots.\n",
    "#  Ensures consistent y-axis limits (flipped to match image coordinates).\n",
    "for a in axs:\n",
    "  a.axis('off')\n",
    "  a.set_xlim([-.5,n-.5])\n",
    "  a.set_ylim([m-.5,-.5])\n",
    "\n",
    "# Adds a colorbar to the last subplot (the U matrix)\n",
    "fig.colorbar(h,ax=axs[-1],fraction=.05)\n",
    "# Optimizes spacing between subplots.\n",
    "plt.tight_layout()\n",
    "# Saves the figure as a high-resolution PNG.\n",
    "plt.savefig('Figure_LU_fact.png',dpi=300)\n",
    "# Displays the figure\n",
    "plt.show()"
   ]
  },
  {
   "cell_type": "code",
   "execution_count": null,
   "metadata": {},
   "outputs": [],
   "source": []
  }
 ],
 "metadata": {
  "colab": {
   "authorship_tag": "ABX9TyPMViqAGFTfl4rudQdwV256",
   "collapsed_sections": [],
   "name": "LA4DS_ch10.ipynb",
   "provenance": []
  },
  "kernelspec": {
   "display_name": "Python 3 (ipykernel)",
   "language": "python",
   "name": "python3"
  },
  "language_info": {
   "codemirror_mode": {
    "name": "ipython",
    "version": 3
   },
   "file_extension": ".py",
   "mimetype": "text/x-python",
   "name": "python",
   "nbconvert_exporter": "python",
   "pygments_lexer": "ipython3",
   "version": "3.9.7"
  }
 },
 "nbformat": 4,
 "nbformat_minor": 1
}
