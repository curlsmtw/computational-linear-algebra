{
 "cells": [
  {
   "cell_type": "markdown",
   "id": "1558908c",
   "metadata": {},
   "source": [
    "# L12 QR factorization"
   ]
  },
  {
   "cell_type": "markdown",
   "id": "62bbeaaa",
   "metadata": {},
   "source": [
    "## Example: QR factorization"
   ]
  },
  {
   "cell_type": "code",
   "execution_count": 13,
   "id": "8e5e69a2",
   "metadata": {},
   "outputs": [
    {
     "data": {
      "image/png": "[encoded data removed]",
      "text/plain": [
       "<Figure size 720x432 with 5 Axes>"
      ]
     },
     "metadata": {},
     "output_type": "display_data"
    }
   ],
   "source": [
    "import numpy as np\n",
    "import matplotlib.pyplot as plt\n",
    "import math\n",
    "\n",
    "# used to create non-regular subplots\n",
    "import matplotlib.gridspec as gridspec\n",
    "\n",
    "# create a random matrix\n",
    "A = np.random.randn(6,6)\n",
    "\n",
    "# QR decomposition\n",
    "Q,R = np.linalg.qr(A)\n",
    "\n",
    "\n",
    "\n",
    "# show the matrices\n",
    "fig = plt.figure(figsize=(10,6))\n",
    "axs = [0]*5\n",
    "c = 1.5 # color limits\n",
    "\n",
    "gs1 = gridspec.GridSpec(2,6)\n",
    "axs[0] = plt.subplot(gs1[0,:2])\n",
    "axs[0].imshow(A,vmin=-c,vmax=c,cmap='gray')\n",
    "axs[0].set_title('A',fontweight='bold')\n",
    "\n",
    "axs[1] = plt.subplot(gs1[0,2:4])\n",
    "axs[1].imshow(Q,vmin=-c,vmax=c,cmap='gray')\n",
    "axs[1].set_title('Q',fontweight='bold')\n",
    "\n",
    "axs[2] = plt.subplot(gs1[0,4:6])\n",
    "axs[2].imshow(R,vmin=-c,vmax=c,cmap='gray')\n",
    "axs[2].set_title('R',fontweight='bold')\n",
    "\n",
    "axs[3] = plt.subplot(gs1[1,1:3])\n",
    "axs[3].imshow(A - Q@R,vmin=-c,vmax=c,cmap='gray')\n",
    "axs[3].set_title('A - QR',fontweight='bold')\n",
    "\n",
    "axs[4] = plt.subplot(gs1[1,3:5])\n",
    "axs[4].imshow(Q.T@Q,cmap='gray')\n",
    "axs[4].set_title(r'Q$^T$Q',fontweight='bold')\n",
    "\n",
    "# remove ticks from all axes\n",
    "for a in axs:\n",
    "  a.set_xticks([])\n",
    "  a.set_yticks([])\n",
    "\n",
    "plt.tight_layout()\n",
    "plt.savefig('Figure_QR.png',dpi=300)\n",
    "plt.show()"
   ]
  },
  {
   "cell_type": "markdown",
   "id": "6aa59a12",
   "metadata": {},
   "source": [
    "## Example 3: QR  factorization of a matrix"
   ]
  },
  {
   "cell_type": "code",
   "execution_count": 22,
   "id": "4072c2d2",
   "metadata": {},
   "outputs": [
    {
     "name": "stdout",
     "output_type": "stream",
     "text": [
      "Q:\n",
      "[[-0.70710678  0.          0.70710678]\n",
      " [-0.70710678  0.         -0.70710678]\n",
      " [-0.         -1.          0.        ]]\n",
      "\n",
      "R:\n",
      "[[-1.41421356  0.        ]\n",
      " [ 0.         -1.        ]\n",
      " [ 0.          0.        ]]\n",
      "\n",
      "Qe:\n",
      "[[-0.70710678  0.        ]\n",
      " [-0.70710678  0.        ]\n",
      " [-0.         -1.        ]]\n",
      "\n",
      "Re:\n",
      "[[-1.41421356  0.        ]\n",
      " [ 0.         -1.        ]]\n",
      "\n"
     ]
    },
    {
     "data": {
      "text/plain": [
       "(None, None, None)"
      ]
     },
     "execution_count": 22,
     "metadata": {},
     "output_type": "execute_result"
    }
   ],
   "source": [
    "import numpy as np\n",
    "import matplotlib.pyplot as plt\n",
    "import math\n",
    "\n",
    "A = [ [1,0],\n",
    "      [1,0],\n",
    "      [0,1] ]\n",
    "\n",
    "# \"full\" QR decomposition\n",
    "Q,R = np.linalg.qr(A,'complete')\n",
    "print('Q:'),print(Q), print('')\n",
    "print('R:'), print(R), print('')\n",
    "\n",
    "# \"economy\" QR decomposition\n",
    "Qe,Re = np.linalg.qr(A) # is the default option in Python\n",
    "print('Qe:'),print(Qe), print('')\n",
    "print('Re:'), print(Re), print('')\n"
   ]
  },
  {
   "cell_type": "markdown",
   "id": "309f19b7",
   "metadata": {},
   "source": [
    "## Example 4: Implement Gram-Schmidt process and compare the result with the result of QR factorization"
   ]
  },
  {
   "cell_type": "code",
   "execution_count": 28,
   "id": "fb66f1ba",
   "metadata": {},
   "outputs": [
    {
     "name": "stdout",
     "output_type": "stream",
     "text": [
      "Q:\n",
      "[[ 0.25599717  0.41284207  0.42708449 -0.76264389]\n",
      " [-0.03747572 -0.82393519 -0.1530823  -0.54432727]\n",
      " [ 0.96359932 -0.11582249 -0.18042206  0.15971654]\n",
      " [ 0.06735992 -0.37050961  0.87270414  0.31076156]]\n",
      "\n",
      "Q2:\n",
      "[[-0.25599717  0.41284207  0.42708449 -0.76264389]\n",
      " [ 0.03747572 -0.82393519 -0.1530823  -0.54432727]\n",
      " [-0.96359932 -0.11582249 -0.18042206  0.15971654]\n",
      " [-0.06735992 -0.37050961  0.87270414  0.31076156]]\n",
      "\n",
      "R:\n",
      "[[-1.70760727 -0.75922249 -0.39284339 -0.87137631]\n",
      " [ 0.          0.66446252  1.20618106 -2.00392234]\n",
      " [ 0.          0.          1.60524455 -1.07688701]\n",
      " [ 0.          0.          0.          1.79080087]]\n",
      "\n",
      "Q-Q2:\n",
      "[[ 0.51199435 -0.          0.          0.        ]\n",
      " [-0.07495145  0.         -0.          0.        ]\n",
      " [ 1.92719865  0.         -0.          0.        ]\n",
      " [ 0.13471984  0.         -0.          0.        ]]\n",
      " \n",
      "Q+Q2:\n",
      "[[-0.          0.82568414  0.85416899 -1.52528779]\n",
      " [ 0.         -1.64787039 -0.3061646  -1.08865454]\n",
      " [-0.         -0.23164498 -0.36084412  0.31943308]\n",
      " [-0.         -0.74101923  1.74540829  0.62152311]]\n",
      " \n",
      "[[1. 0. 0. 0.]\n",
      " [0. 1. 0. 0.]\n",
      " [0. 0. 1. 0.]\n",
      " [0. 0. 0. 1.]]\n"
     ]
    },
    {
     "data": {
      "image/png": "[encoded data removed]",
      "text/plain": [
       "<Figure size 432x288 with 1 Axes>"
      ]
     },
     "metadata": {
      "needs_background": "light"
     },
     "output_type": "display_data"
    }
   ],
   "source": [
    "import numpy as np\n",
    "import matplotlib.pyplot as plt\n",
    "import math\n",
    "# create the matrix \n",
    "m = 4\n",
    "n = 4\n",
    "A = np.random.randn(m,n)\n",
    "\n",
    "# initialize\n",
    "Q = np.zeros((m,n))\n",
    "\n",
    "# the GS algorithm\n",
    "for i in range(n):\n",
    "    \n",
    "    # initialize\n",
    "    Q[:,i] = A[:,i]\n",
    "    \n",
    "    # orthogonalize\n",
    "    a = A[:,i] # convenience\n",
    "    for j in range(i): # only to earlier cols\n",
    "        q = Q[:,j] # convenience\n",
    "        Q[:,i]=Q[:,i]-np.dot(a,q)/np.dot(q,q)*q\n",
    "    \n",
    "    # normalize\n",
    "    Q[:,i] = Q[:,i] / np.linalg.norm(Q[:,i])\n",
    "\n",
    "# \"real\" QR decomposition for comparison\n",
    "Q2,R = np.linalg.qr(A)\n",
    "\n",
    "print('Q:'),print(Q), print('')\n",
    "\n",
    "print('Q2:'),print(Q2), print('')\n",
    "print('R:'), print(R), print('')\n",
    "\n",
    "# note the possible sign differences.\n",
    "# seemingly non-zero columns will be 0 when adding\n",
    "print('Q-Q2:'),print( np.round( Q-Q2 ,10) ), print(' ')\n",
    "print('Q+Q2:'), print( np.round( Q+Q2 ,10) ), print(' ')\n",
    "\n",
    "# one more check:\n",
    "print(np.round(Q.T@Q,3))\n",
    "plt.imshow(Q.T@Q)\n",
    "plt.show()\n"
   ]
  },
  {
   "cell_type": "markdown",
   "id": "5c2f42a4",
   "metadata": {},
   "source": [
    "## Example 5: The inverse via QR factorization"
   ]
  },
  {
   "cell_type": "code",
   "execution_count": 34,
   "id": "347862cc",
   "metadata": {},
   "outputs": [
    {
     "data": {
      "image/png": "[encoded data removed]",
      "text/plain": [
       "<Figure size 432x288 with 1 Axes>"
      ]
     },
     "metadata": {
      "needs_background": "light"
     },
     "output_type": "display_data"
    },
    {
     "data": {
      "image/png": "[encoded data removed]",
      "text/plain": [
       "<Figure size 432x288 with 3 Axes>"
      ]
     },
     "metadata": {
      "needs_background": "light"
     },
     "output_type": "display_data"
    }
   ],
   "source": [
    "import numpy as np\n",
    "import matplotlib.pyplot as plt\n",
    "import math\n",
    "\n",
    "# generate a large matrix and invert using QR and inv()\n",
    "x=100\n",
    "A=np.random.randn(x,x)\n",
    "# explicit inverse\n",
    "Ai=np.linalg.inv(A)\n",
    "# inverse via QR\n",
    "Q,R=np.linalg.qr(A)\n",
    "plt.imshow(R)\n",
    "plt.show()\n",
    "\n",
    "Ai1=np.linalg.inv(R)@Q.T\n",
    "# solves RA^{-1}=Q^{T} to find A^{-1}\n",
    "Ai2=np.linalg.solve(R,Q.T)\n",
    "\n",
    "plt.subplot(1,3,1)\n",
    "plt.imshow(Ai)\n",
    "plt.title('A$^{-1}$ from linalg.inv')\n",
    "\n",
    "\n",
    "plt.subplot(1,3,2)\n",
    "plt.imshow(Ai1)\n",
    "plt.title('A$^{-1}$ from $A^{-1}=R^{-1} Q^T$')\n",
    "\n",
    "plt.subplot(1,3,3)\n",
    "plt.imshow(Ai2)\n",
    "plt.title('A$^{-1}$ from solve')\n",
    "\n",
    "plt.show()"
   ]
  },
  {
   "cell_type": "markdown",
   "id": "4a41872c",
   "metadata": {},
   "source": [
    "## Example 6: The inverse via QR factorization (one more example)"
   ]
  },
  {
   "cell_type": "code",
   "execution_count": 35,
   "id": "42426980",
   "metadata": {},
   "outputs": [
    {
     "name": "stdout",
     "output_type": "stream",
     "text": [
      "Matrix A:\n",
      " [[2 1]\n",
      " [3 4]]\n",
      "Orthogonal Matrix Q:\n",
      " [[-0.5547002  -0.83205029]\n",
      " [-0.83205029  0.5547002 ]]\n",
      "Upper Triangular Matrix R:\n",
      " [[-3.60555128 -3.88290137]\n",
      " [ 0.          1.38675049]]\n",
      "Computed A inverse using QR:\n",
      " [[ 0.8 -0.2]\n",
      " [-0.6  0.4]]\n",
      "A * A_inv (should be identity):\n",
      " [[ 1.00000000e+00  5.55111512e-17]\n",
      " [-4.44089210e-16  1.00000000e+00]]\n"
     ]
    }
   ],
   "source": [
    "import numpy as np\n",
    "\n",
    "# Define a square matrix A\n",
    "A = np.array([[2, 1], [3, 4]])\n",
    "\n",
    "# Compute QR decomposition\n",
    "Q, R = np.linalg.qr(A)\n",
    "\n",
    "# Compute A inverse using QR decomposition: A^{-1} = R^{-1} Q^T\n",
    "A_inv = np.linalg.solve(R, Q.T)\n",
    "\n",
    "# Verify by multiplying with A (should give identity matrix)\n",
    "I_check = np.dot(A, A_inv)\n",
    "\n",
    "# Print results\n",
    "print(\"Matrix A:\\n\", A)\n",
    "print(\"Orthogonal Matrix Q:\\n\", Q)\n",
    "print(\"Upper Triangular Matrix R:\\n\", R)\n",
    "print(\"Computed A inverse using QR:\\n\", A_inv)\n",
    "print(\"A * A_inv (should be identity):\\n\", I_check)\n"
   ]
  },
  {
   "cell_type": "markdown",
   "id": "0e7075aa",
   "metadata": {},
   "source": [
    "## Example 7: use QR decomposition to compute det(A)"
   ]
  },
  {
   "cell_type": "code",
   "execution_count": 42,
   "id": "ca13344a",
   "metadata": {},
   "outputs": [
    {
     "name": "stdout",
     "output_type": "stream",
     "text": [
      "[[-0.38  0.87 -0.31 -0.1 ]\n",
      " [-0.2  -0.17  0.09 -0.96]\n",
      " [ 0.1  -0.3  -0.95 -0.06]\n",
      " [-0.9  -0.36  0.01  0.25]]\n",
      " \n",
      "[[-20.86 -24.67   0.48 -25.01]\n",
      " [  0.    -7.92   1.31  -3.46]\n",
      " [  0.     0.    -9.96 -10.39]\n",
      " [  0.     0.     0.    -0.32]]\n",
      "Determinant from QR decomposition: 519.823799999999\n"
     ]
    }
   ],
   "source": [
    "import numpy as np\n",
    "\n",
    "# Define the matrix A\n",
    "A = np.array([[8,2.6,4.0,9.8],\n",
    "              [4.2,6.3,-1.2,5.0],\n",
    "              [-2.0,0.0,9.1,8.5],\n",
    "              [18.7,25.0,-1.0,23.5]])\n",
    "\n",
    "# Perform QR decomposition\n",
    "Q, R = np.linalg.qr(A)\n",
    "\n",
    "print(np.round(Q,2)), print(' ')\n",
    "print(np.round(R,2))\n",
    "\n",
    "# Compute the determinant from QR decomposition (det(A) = product of diagonal elements of R)\n",
    "det_from_qr = np.prod(np.diagonal(R))\n",
    "\n",
    "# Display the results\n",
    "print(f\"Determinant from QR decomposition: {np.abs(det_from_qr)}\")\n",
    "\n"
   ]
  },
  {
   "cell_type": "markdown",
   "id": "bb981b56",
   "metadata": {},
   "source": [
    "## Example 8: using QR decomposition to compute matrix's determinant"
   ]
  },
  {
   "cell_type": "code",
   "execution_count": 43,
   "id": "82c9ea03",
   "metadata": {},
   "outputs": [
    {
     "name": "stdout",
     "output_type": "stream",
     "text": [
      "[[-0.03 -0.15  0.37  0.36  0.69 -0.48]\n",
      " [ 0.18 -0.09 -0.38  0.09  0.61  0.66]\n",
      " [-0.09 -0.23 -0.81 -0.09  0.07 -0.52]\n",
      " [-0.09 -0.95  0.19 -0.11 -0.15  0.15]\n",
      " [-0.09 -0.06 -0.17  0.92 -0.34  0.1 ]\n",
      " [-0.97  0.1  -0.01 -0.06  0.13  0.16]]\n",
      " \n",
      "[[-33.96 -13.34  -9.1   -4.3  -11.93  -8.45]\n",
      " [  0.   -58.82 -39.23  -3.    -9.65  -9.9 ]\n",
      " [  0.     0.   -16.04  -2.81  -4.47  -3.6 ]\n",
      " [  0.     0.     0.    15.25  49.51   0.51]\n",
      " [  0.     0.     0.     0.   -21.58   0.78]\n",
      " [  0.     0.     0.     0.     0.    -1.93]]\n",
      "Determinant from QR decomposition: 20377807.99999999\n",
      "Determinant from np.linalg.det: 20377807.999999978\n",
      "Both methods give the same determinant.\n"
     ]
    }
   ],
   "source": [
    "import numpy as np\n",
    "\n",
    "# Define the matrix A\n",
    "A = np.array([[1, 9, 0, 5, 3, 2],\n",
    "              [-6, 3, 8, 2, -8, 0],\n",
    "              [3, 15, 23, 2, 1, 7],\n",
    "              [3, 57, 35, 1, 7, 9],\n",
    "              [3, 5, 6, 15, 55, 2],\n",
    "              [33, 7, 5, 3, 5, 7]])\n",
    "\n",
    "# Perform QR decomposition\n",
    "Q, R = np.linalg.qr(A)\n",
    "\n",
    "print(np.round(Q,2)), print(' ')\n",
    "print(np.round(R,2))\n",
    "\n",
    "# Compute the determinant from QR decomposition (det(A) = product of diagonal elements of R)\n",
    "det_from_qr = np.prod(np.diagonal(R))\n",
    "\n",
    "# Compute the determinant using the built-in np.linalg.det() function\n",
    "det_from_np = np.linalg.det(A)\n",
    "\n",
    "# Display the results\n",
    "print(f\"Determinant from QR decomposition: {np.abs(det_from_qr)}\")\n",
    "print(f\"Determinant from np.linalg.det: {np.abs(det_from_np)}\")\n",
    "\n",
    "# Check if both methods give the same result\n",
    "if np.isclose(np.abs(det_from_qr), np.abs(det_from_np)):\n",
    "    print(\"Both methods give the same determinant.\")\n",
    "else:\n",
    "    print(\"The methods yield different results.\")\n"
   ]
  },
  {
   "cell_type": "code",
   "execution_count": null,
   "id": "2123bb70",
   "metadata": {},
   "outputs": [],
   "source": []
  }
 ],
 "metadata": {
  "kernelspec": {
   "display_name": "Python 3 (ipykernel)",
   "language": "python",
   "name": "python3"
  },
  "language_info": {
   "codemirror_mode": {
    "name": "ipython",
    "version": 3
   },
   "file_extension": ".py",
   "mimetype": "text/x-python",
   "name": "python",
   "nbconvert_exporter": "python",
   "pygments_lexer": "ipython3",
   "version": "3.9.7"
  }
 },
 "nbformat": 4,
 "nbformat_minor": 5
}
